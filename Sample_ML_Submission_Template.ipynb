{
  "nbformat": 4,
  "nbformat_minor": 0,
  "metadata": {
    "colab": {
      "private_outputs": true,
      "provenance": [],
      "collapsed_sections": [
        "vncDsAP0Gaoa",
        "FJNUwmbgGyua",
        "w6K7xa23Elo4",
        "yQaldy8SH6Dl",
        "mDgbUHAGgjLW",
        "O_i_v8NEhb9l",
        "HhfV-JJviCcP",
        "Y3lxredqlCYt",
        "3RnN4peoiCZX",
        "x71ZqKXriCWQ",
        "7hBIi_osiCS2",
        "JlHwYmJAmNHm",
        "35m5QtbWiB9F",
        "PoPl-ycgm1ru",
        "H0kj-8xxnORC",
        "nA9Y7ga8ng1Z",
        "PBTbrJXOngz2",
        "u3PMJOP6ngxN",
        "dauF4eBmngu3",
        "bKJF3rekwFvQ",
        "MSa1f5Uengrz",
        "GF8Ens_Soomf",
        "0wOQAZs5pc--",
        "K5QZ13OEpz2H",
        "lQ7QKXXCp7Bj",
        "448CDAPjqfQr",
        "KSlN3yHqYklG",
        "t6dVpIINYklI",
        "ijmpgYnKYklI",
        "-JiQyfWJYklI",
        "EM7whBJCYoAo",
        "fge-S5ZAYoAp",
        "85gYPyotYoAp",
        "RoGjAbkUYoAp",
        "4Of9eVA-YrdM",
        "iky9q4vBYrdO",
        "F6T5p64dYrdO",
        "y-Ehk30pYrdP",
        "bamQiAODYuh1",
        "QHF8YVU7Yuh3",
        "GwzvFGzlYuh3",
        "qYpmQ266Yuh3",
        "OH-pJp9IphqM",
        "bbFf2-_FphqN",
        "_ouA3fa0phqN",
        "Seke61FWphqN",
        "PIIx-8_IphqN",
        "t27r6nlMphqO",
        "r2jJGEOYphqO",
        "b0JNsNcRphqO",
        "BZR9WyysphqO",
        "jj7wYXLtphqO",
        "eZrbJ2SmphqO",
        "rFu4xreNphqO",
        "YJ55k-q6phqO",
        "gCFgpxoyphqP",
        "OVtJsKN_phqQ",
        "lssrdh5qphqQ",
        "U2RJ9gkRphqQ",
        "1M8mcRywphqQ",
        "tgIPom80phqQ",
        "JMzcOPDDphqR",
        "x-EpHcCOp1ci",
        "X_VqEhTip1ck",
        "8zGJKyg5p1ck",
        "PVzmfK_Ep1ck",
        "n3dbpmDWp1ck",
        "ylSl6qgtp1ck",
        "ZWILFDl5p1ck",
        "M7G43BXep1ck",
        "Ag9LCva-p1cl",
        "E6MkPsBcp1cl",
        "2cELzS2fp1cl",
        "3MPXvC8up1cl",
        "NC_X3p0fY2L0",
        "UV0SzAkaZNRQ",
        "YPEH6qLeZNRQ",
        "q29F0dvdveiT",
        "EXh0U9oCveiU",
        "22aHeOlLveiV",
        "g-ATYxFrGrvw",
        "Yfr_Vlr8HBkt",
        "8yEUt7NnHlrM",
        "tEA2Xm5dHt1r",
        "I79__PHVH19G",
        "Ou-I18pAyIpj",
        "fF3858GYyt-u",
        "4_0_7-oCpUZd",
        "hwyV_J3ipUZe",
        "3yB-zSqbpUZe",
        "dEUvejAfpUZe",
        "Fd15vwWVpUZf",
        "bn_IUdTipZyH",
        "49K5P_iCpZyH",
        "Nff-vKELpZyI",
        "kLW572S8pZyI",
        "dWbDXHzopZyI",
        "yLjJCtPM0KBk",
        "xiyOF9F70UgQ",
        "7wuGOrhz0itI",
        "id1riN9m0vUs",
        "578E2V7j08f6",
        "89xtkJwZ18nB",
        "67NQN5KX2AMe",
        "Iwf50b-R2tYG",
        "GMQiZwjn3iu7",
        "WVIkgGqN3qsr",
        "XkPnILGE3zoT",
        "Hlsf0x5436Go",
        "mT9DMSJo4nBL",
        "c49ITxTc407N",
        "OeJFEK0N496M",
        "9ExmJH0g5HBk",
        "cJNqERVU536h",
        "k5UmGsbsOxih",
        "T0VqWOYE6DLQ",
        "qBMux9mC6MCf",
        "-oLEiFgy-5Pf",
        "C74aWNz2AliB",
        "2DejudWSA-a0",
        "pEMng2IbBLp7",
        "rAdphbQ9Bhjc",
        "TNVZ9zx19K6k",
        "nqoHp30x9hH9",
        "rMDnDkt2B6du",
        "yiiVWRdJDDil",
        "1UUpS68QDMuG",
        "kexQrXU-DjzY",
        "T5CmagL3EC8N",
        "BhH2vgX9EjGr",
        "qjKvONjwE8ra",
        "P1XJ9OREExlT",
        "VFOzZv6IFROw",
        "TIqpNgepFxVj",
        "VfCC591jGiD4",
        "OB4l2ZhMeS1U",
        "ArJBuiUVfxKd",
        "4qY1EAkEfxKe",
        "PiV4Ypx8fxKe",
        "TfvqoZmBfxKf",
        "dJ2tPlVmpsJ0",
        "JWYfwnehpsJ1",
        "-jK_YjpMpsJ2",
        "HAih1iBOpsJ2",
        "zVGeBEFhpsJ2",
        "bmKjuQ-FpsJ3",
        "Fze-IPXLpx6K",
        "7AN1z2sKpx6M",
        "9PIHJqyupx6M",
        "_-qAgymDpx6N",
        "Z-hykwinpx6N",
        "h_CCil-SKHpo",
        "cBFFvTBNJzUa",
        "HvGl1hHyA_VK",
        "EyNgTHvd2WFk",
        "KH5McJBi2d8v",
        "iW_Lq9qf2h6X",
        "-Kee-DAl2viO",
        "gCX9965dhzqZ",
        "gIfDvo9L0UH2"
      ],
      "include_colab_link": true
    },
    "kernelspec": {
      "name": "python3",
      "display_name": "Python 3"
    },
    "language_info": {
      "name": "python"
    }
  },
  "cells": [
    {
      "cell_type": "markdown",
      "metadata": {
        "id": "view-in-github",
        "colab_type": "text"
      },
      "source": [
        "<a href=\"https://colab.research.google.com/github/nawazsaj/Classification-Model-on-Bank-Marketing-Effectiveness-Prediction/blob/main/Sample_ML_Submission_Template.ipynb\" target=\"_parent\"><img src=\"https://colab.research.google.com/assets/colab-badge.svg\" alt=\"Open In Colab\"/></a>"
      ]
    },
    {
      "cell_type": "markdown",
      "source": [
        "# **Project Name**    -  <font color=\"orange\">Bank Marketing Effectiveness Prediction\n",
        "\n"
      ],
      "metadata": {
        "id": "vncDsAP0Gaoa"
      }
    },
    {
      "cell_type": "markdown",
      "source": [
        "##### **Project Type**    -  <font color=\"magenda\">**Classification**\n",
        "##### **Contribution**    -  <font color=\"magenda\">**Individual**\n",
        "#####  **NAME**         -<font color=\"RED\"> **S Nawaz**"
      ],
      "metadata": {
        "id": "beRrZCGUAJYm"
      }
    },
    {
      "cell_type": "markdown",
      "source": [
        "# **Project Summary -**"
      ],
      "metadata": {
        "id": "FJNUwmbgGyua"
      }
    },
    {
      "cell_type": "markdown",
      "source": [
        "1. The dataset is from a direct marketing campaigns(phone calls) of a Portuguese banking institution. The marketing campaigns were based on phone calls. The *classification goal is to predict if the client will subscribe a term deposit *(variable y).\n",
        "\n",
        "2. Built machine learning models using Logistic Regression, Decision Tree, Random Forest Classifier, K nearest Neighbour Classifier and Naive Bayes Algorithm and compared them using the evaluation metrics score.\n",
        "\n",
        "3. Started with importing and understanding the dataset by observing the rows and columns, shape, info about the datatypes, statistical description about the numerical columns and counting the null values of each column.\n",
        "\n",
        "4. Replaced the null values with suitable values and averages and made the columns ready for Exploratory Data Analysis.\n",
        "\n",
        "5. Proceeded with the EDA and performed various Univarite, Bivariate and Multivariate analysis to get the idea of the dataset and to make necessary transformations and manipulations to be then used for data pre processing for modelling and also gain business insights from them.\n",
        "\n",
        "6. Formulated some Hypothesis and did hypothesis testing using different statistical tests. accepted/rejected the hypothesis based on the p values.\n",
        "\n",
        "7. Then proceeded to feature engineering section. We did feature manipulation where some columns were dropped and missing values imputations were done. We handled outliers using Z score method, used One Hot encoding,Binary encoding and get dummies for converting the data into numerical features.\n",
        "\n",
        "8. Used Train test split and splitted the data into 80:20and handled the data imbalance using SMOTE technique. Further we scaled our data, selected important features for modelling and applied Machine learning classification models one by one and used hyperparamater tuning for increasing the efficiency of the models.\n",
        "\n",
        "9. The models were Decision Trees, Random forest, Logistic regression, KNN and Naive Bayes. Finally valuated the model using various evaluation metrics such as Confusion matrix, Accuracy, Precision, Recall,F1 Score and ROC-AUC Curve.\n",
        "\n",
        "10. Comparing the performance of all the models we found Logistic Regression may be a suitable fit in our scenario because recall and precision are 74% and 76%, respectively. The accuracy is just 75% in this case, but we want maximum recall to forecast as many true positives as possible so that we don't miss out on any customers who actually want to make a deposit.\n",
        "11. Out of all the models we've used so far, logistic regression has the highest recall value (74%), which is quite a good score for the dataset used because we can't afford to miss out on interested clients, so this metric provides us with genuine results that meet our needs. The greater the true positives relative to total actual positives, the better the model in this scenario.\n",
        "\n",
        "12. Concluded the project by trying to predict the dependent variable using a completely new dataset and pointed some business insights helpful for the banking institution.\n"
      ],
      "metadata": {
        "id": "F6v_1wHtG2nS"
      }
    },
    {
      "cell_type": "markdown",
      "source": [
        "# **GitHub Link -**"
      ],
      "metadata": {
        "id": "w6K7xa23Elo4"
      }
    },
    {
      "cell_type": "markdown",
      "source": [
        "Provide your GitHub Link here."
      ],
      "metadata": {
        "id": "h1o69JH3Eqqn"
      }
    },
    {
      "cell_type": "markdown",
      "source": [
        "# **Problem Statement**\n"
      ],
      "metadata": {
        "id": "yQaldy8SH6Dl"
      }
    },
    {
      "cell_type": "markdown",
      "source": [
        "\n",
        "**The data is related with direct marketing campaigns (phone calls) of a Portuguese banking institution. The marketing campaigns were based on phone calls. Often, more than one contact to the same client was required, in order to access if the product (bank term deposit) would be ('yes') or not ('no') subscribed. The classification goal is to predict if the client will subscribe a term deposit (variable y).**"
      ],
      "metadata": {
        "id": "DpeJGUA3kjGy"
      }
    },
    {
      "cell_type": "markdown",
      "source": [
        "# **General Guidelines** : -  "
      ],
      "metadata": {
        "id": "mDgbUHAGgjLW"
      }
    },
    {
      "cell_type": "markdown",
      "source": [
        "1.   Well-structured, formatted, and commented code is required.\n",
        "2.   Exception Handling, Production Grade Code & Deployment Ready Code will be a plus. Those students will be awarded some additional credits.\n",
        "     \n",
        "     The additional credits will have advantages over other students during Star Student selection.\n",
        "       \n",
        "             [ Note: - Deployment Ready Code is defined as, the whole .ipynb notebook should be executable in one go\n",
        "                       without a single error logged. ]\n",
        "\n",
        "3.   Each and every logic should have proper comments.\n",
        "4. You may add as many number of charts you want. Make Sure for each and every chart the following format should be answered.\n",
        "        \n",
        "\n",
        "```\n",
        "# Chart visualization code\n",
        "```\n",
        "            \n",
        "\n",
        "*   Why did you pick the specific chart?\n",
        "*   What is/are the insight(s) found from the chart?\n",
        "* Will the gained insights help creating a positive business impact?\n",
        "Are there any insights that lead to negative growth? Justify with specific reason.\n",
        "\n",
        "5. You have to create at least 15 logical & meaningful charts having important insights.\n",
        "\n",
        "\n",
        "[ Hints : - Do the Vizualization in  a structured way while following \"UBM\" Rule.\n",
        "\n",
        "U - Univariate Analysis,\n",
        "\n",
        "B - Bivariate Analysis (Numerical - Categorical, Numerical - Numerical, Categorical - Categorical)\n",
        "\n",
        "M - Multivariate Analysis\n",
        " ]\n",
        "\n",
        "\n",
        "\n",
        "\n",
        "\n",
        "6. You may add more ml algorithms for model creation. Make sure for each and every algorithm, the following format should be answered.\n",
        "\n",
        "\n",
        "*   Explain the ML Model used and it's performance using Evaluation metric Score Chart.\n",
        "\n",
        "\n",
        "*   Cross- Validation & Hyperparameter Tuning\n",
        "\n",
        "*   Have you seen any improvement? Note down the improvement with updates Evaluation metric Score Chart.\n",
        "\n",
        "*   Explain each evaluation metric's indication towards business and the business impact pf the ML model used.\n",
        "\n",
        "\n",
        "\n",
        "\n",
        "\n",
        "\n",
        "\n",
        "\n",
        "\n",
        "\n",
        "\n",
        "\n",
        "\n",
        "\n",
        "\n",
        "\n",
        "\n",
        "\n"
      ],
      "metadata": {
        "id": "ZrxVaUj-hHfC"
      }
    },
    {
      "cell_type": "markdown",
      "source": [
        "# **Data Description** :-"
      ],
      "metadata": {
        "id": "ZCNpC6fYff4Z"
      }
    },
    {
      "cell_type": "markdown",
      "source": [
        "## **Input variables :**\n",
        "### **Bank Client data :**\n",
        "\n",
        "*  age (numeric)\n",
        "*  job : type of job (categorical: 'admin.','blue-collar','entrepreneur','housemaid','management','retired','self-employed','services','student','technician','unemployed','unknown')\n",
        "*  marital : marital status (categorical: 'divorced','married','single','unknown'; note: 'divorced' means divorced or widowed)\n",
        "*  education (categorical: 'basic.4y','basic.6y','basic.9y','high.school','illiterate','professional.course','university.degree','unknown')\n",
        "*  default: has credit in default? (categorical: 'no','yes','unknown')\n",
        "*  housing: has housing loan? (categorical: 'no','yes','unknown')\n",
        "*  loan: has personal loan? (categorical: 'no','yes','unknown')\n",
        "\n",
        "### **Related with the last contact of the current campaign :**\n",
        "*  contact: contact communication type (categorical: 'cellular','telephone')\n",
        "*  month: last contact month of year (categorical: 'jan', 'feb', 'mar', ..., 'nov', 'dec')\n",
        "*  day_of_week: last contact day of the week (categorical: 'mon','tue','wed','thu','fri')\n",
        "*  duration: last contact duration, in seconds (numeric). Important note: this attribute highly affects the output target (e.g., if duration=0 then y='no'). Yet, the duration is not known before a call is performed. Also, after the end of the call y is obviously known. Thus, this input should only be included for benchmark purposes and should be discarded if the intention is to have a realistic predictive model.\n",
        "\n",
        "### **Other attributes :**\n",
        "*  campaign: number of contacts performed during this campaign and for this client (numeric, includes last contact)\n",
        "*  pdays: number of days that passed by after the client was last contacted from a previous campaign (numeric; -1 means client was not previously contacted)\n",
        "*  previous: number of contacts performed before this campaign and for this client (numeric)\n",
        "*  poutcome: outcome of the previous marketing campaign (categorical: 'failure','nonexistent','success')\n",
        "\n",
        "### **Output variable (desired target) :**\n",
        "*  y - has the client subscribed a term deposit? (binary: 'yes','no')"
      ],
      "metadata": {
        "id": "VmFSus95fjJ-"
      }
    },
    {
      "cell_type": "markdown",
      "source": [
        "# ***Let's Begin !***"
      ],
      "metadata": {
        "id": "O_i_v8NEhb9l"
      }
    },
    {
      "cell_type": "markdown",
      "source": [
        "## ***1. Know Your Data***"
      ],
      "metadata": {
        "id": "HhfV-JJviCcP"
      }
    },
    {
      "cell_type": "markdown",
      "source": [
        "### Import Libraries"
      ],
      "metadata": {
        "id": "Y3lxredqlCYt"
      }
    },
    {
      "cell_type": "code",
      "source": [
        "# Import Libraries\n",
        "\n",
        "# Import Pandas for data manipulation and analysis\n",
        "# Import NumPy for numerical computations\n",
        "# Import Matplotlib for basic data visualization\n",
        "# Import Seaborn for advanced statistical visualizations\n",
        "# Import the datetime module for working with dates and times and soo on\n",
        "# Scikit-learn (Sklearn) is the most useful and robust library for machine learning in python.it provides a selection of efficient tools for machine learning and statistical modeling\n",
        "# including classification, regression,clustering and dimensionality reduction via a consistence interface in python\n",
        "# Import warnings module to ignore potential warnings\n",
        "\n",
        "import pandas as pd\n",
        "import numpy as np\n",
        "import matplotlib.pyplot as plt\n",
        "%matplotlib inline\n",
        "import seaborn as sns\n",
        "from datetime import datetime\n",
        "from matplotlib import rcParams\n",
        "from scipy.stats import *\n",
        "from sklearn.metrics import accuracy_score, confusion_matrix, classification_report, roc_auc_score\n",
        "from sklearn.preprocessing import StandardScaler\n",
        "from sklearn.model_selection import train_test_split\n",
        "from sklearn.linear_model import LogisticRegression\n",
        "from sklearn.tree import DecisionTreeClassifier\n",
        "from sklearn.feature_selection import mutual_info_classif\n",
        "from sklearn.ensemble import RandomForestClassifier\n",
        "from sklearn import metrics\n",
        "from sklearn import tree\n",
        "from imblearn.over_sampling import SMOTE\n",
        "from collections import Counter\n",
        "from sklearn.metrics import roc_curve\n",
        "from sklearn.model_selection import GridSearchCV\n",
        "from sklearn.model_selection import RepeatedStratifiedKFold\n",
        "from sklearn.tree import export_graphviz\n",
        "from sklearn.metrics import log_loss\n",
        "from sklearn.linear_model import LogisticRegressionCV\n",
        "from sklearn.model_selection import cross_validate\n",
        "from sklearn.neighbors import KNeighborsClassifier\n",
        "from sklearn.naive_bayes import GaussianNB\n",
        "from sklearn.inspection import permutation_importance\n",
        "\n",
        "import warnings\n",
        "warnings.filterwarnings('ignore')"
      ],
      "metadata": {
        "id": "M8Vqi-pPk-HR"
      },
      "execution_count": null,
      "outputs": []
    },
    {
      "cell_type": "code",
      "source": [
        "# Importing Classification algorithm metrics\n",
        "\n",
        "from mlxtend.plotting import plot_confusion_matrix\n",
        "from sklearn.metrics import accuracy_score\n",
        "from sklearn.metrics import precision_score\n",
        "from sklearn.metrics import recall_score\n",
        "from sklearn.metrics import f1_score\n"
      ],
      "metadata": {
        "id": "TxEIHSxn69h_"
      },
      "execution_count": null,
      "outputs": []
    },
    {
      "cell_type": "markdown",
      "source": [
        "### Dataset Loading"
      ],
      "metadata": {
        "id": "3RnN4peoiCZX"
      }
    },
    {
      "cell_type": "code",
      "source": [
        "# Load Dataset\n",
        "# mounting the google drive"
      ],
      "metadata": {
        "id": "4CkvbW_SlZ_R"
      },
      "execution_count": null,
      "outputs": []
    },
    {
      "cell_type": "code",
      "source": [
        "from google.colab import drive\n",
        "drive.mount('/content/drive')"
      ],
      "metadata": {
        "id": "1EV019RPh1tJ"
      },
      "execution_count": null,
      "outputs": []
    },
    {
      "cell_type": "code",
      "source": [
        "# The 'pd.read_csv()' function reads the CSV file and returns a Pandas DataFrame.\n",
        "bank_mp = pd.read_csv(\"/content/drive/MyDrive/data set/bank-full.csv\", sep = \";\")            ## Creating path for the dataset\n"
      ],
      "metadata": {
        "id": "C6G_MS7ciEae"
      },
      "execution_count": null,
      "outputs": []
    },
    {
      "cell_type": "markdown",
      "source": [
        "### Dataset First View"
      ],
      "metadata": {
        "id": "x71ZqKXriCWQ"
      }
    },
    {
      "cell_type": "code",
      "source": [
        "# Dataset First Look\n",
        "bank_mp"
      ],
      "metadata": {
        "id": "LWNFOSvLl09H"
      },
      "execution_count": null,
      "outputs": []
    },
    {
      "cell_type": "markdown",
      "source": [
        "### Dataset Rows & Columns count"
      ],
      "metadata": {
        "id": "7hBIi_osiCS2"
      }
    },
    {
      "cell_type": "code",
      "source": [
        "# Dataset Rows & Columns count\n",
        "# .shape give the rows and column count\n",
        "bank_mp.shape"
      ],
      "metadata": {
        "id": "Kllu7SJgmLij"
      },
      "execution_count": null,
      "outputs": []
    },
    {
      "cell_type": "markdown",
      "source": [
        "### Dataset Information"
      ],
      "metadata": {
        "id": "JlHwYmJAmNHm"
      }
    },
    {
      "cell_type": "code",
      "source": [
        "# Dataset Info\n",
        "   ##.info gives the basic information of the dataset\n",
        "bank_mp.info()"
      ],
      "metadata": {
        "id": "e9hRXRi6meOf"
      },
      "execution_count": null,
      "outputs": []
    },
    {
      "cell_type": "markdown",
      "source": [
        "* As we see our data set contain 7 numerical and 10 (object) categorical datatype values"
      ],
      "metadata": {
        "id": "JlsKmWw5jxPy"
      }
    },
    {
      "cell_type": "code",
      "source": [
        "#creating a list for all continuous variables\n",
        "continuous_list = ['age', 'balance', 'day', 'duration', 'campaign', 'previous']"
      ],
      "metadata": {
        "id": "MxFJ2yHDls_n"
      },
      "execution_count": null,
      "outputs": []
    },
    {
      "cell_type": "code",
      "source": [
        "#creating a list for all categorical variables\n",
        "categorical_list = [ 'job', 'marital', 'education', 'default', 'housing',\n",
        "       'loan', 'contact', 'month', 'poutcome', 'y']"
      ],
      "metadata": {
        "id": "QAK1NloUluqj"
      },
      "execution_count": null,
      "outputs": []
    },
    {
      "cell_type": "markdown",
      "source": [
        "#### Duplicate Values"
      ],
      "metadata": {
        "id": "35m5QtbWiB9F"
      }
    },
    {
      "cell_type": "code",
      "source": [
        "# Dataset Duplicate Value Count\n",
        "   #checking the duplicated values in our data set\n",
        "print ('There are totel', bank_mp.duplicated().sum(),'Duplicate Value')"
      ],
      "metadata": {
        "id": "1sLdpKYkmox0"
      },
      "execution_count": null,
      "outputs": []
    },
    {
      "cell_type": "markdown",
      "source": [
        "#### Missing Values/Null Values"
      ],
      "metadata": {
        "id": "PoPl-ycgm1ru"
      }
    },
    {
      "cell_type": "code",
      "source": [
        "# Missing Values/Null Values Count\n",
        "#checking the missing/null values in our data set\n",
        "bank_mp.isnull().sum()"
      ],
      "metadata": {
        "id": "GgHWkxvamxVg"
      },
      "execution_count": null,
      "outputs": []
    },
    {
      "cell_type": "code",
      "source": [
        "# Visualizing the missing values\n",
        "null_counts= bank_mp.isnull().sum()\n",
        "null_counts.plot.bar()\n",
        "plt.title('Null Value Counts')\n",
        "plt.xlabel('Features')\n",
        "plt.ylabel('Count')\n",
        "plt.show()"
      ],
      "metadata": {
        "id": "3q5wnI3om9sJ"
      },
      "execution_count": null,
      "outputs": []
    },
    {
      "cell_type": "markdown",
      "source": [
        "* zero null values"
      ],
      "metadata": {
        "id": "ssPL_RVuo40r"
      }
    },
    {
      "cell_type": "markdown",
      "source": [
        "### What did you know about your dataset?"
      ],
      "metadata": {
        "id": "H0kj-8xxnORC"
      }
    },
    {
      "cell_type": "markdown",
      "source": [
        "1.There are 45211 rows and 17 columns in the dataset.\n",
        "\n",
        "2.There are 7 continuous and 10 categorical variables in our dataset.\n",
        "\n",
        "3.There are no duplicated instances in our dataset.\n",
        "\n",
        "4.There are no missing values in our dataset."
      ],
      "metadata": {
        "id": "gfoNAAC-nUe_"
      }
    },
    {
      "cell_type": "markdown",
      "source": [
        "## ***2. Understanding Your Variables***"
      ],
      "metadata": {
        "id": "nA9Y7ga8ng1Z"
      }
    },
    {
      "cell_type": "code",
      "source": [
        "# Dataset Columns\n",
        "bank_mp.columns"
      ],
      "metadata": {
        "id": "j7xfkqrt5Ag5"
      },
      "execution_count": null,
      "outputs": []
    },
    {
      "cell_type": "code",
      "source": [
        "# Dataset Describe\n",
        "bank_mp.describe(include='all')"
      ],
      "metadata": {
        "id": "DnOaZdaE5Q5t"
      },
      "execution_count": null,
      "outputs": []
    },
    {
      "cell_type": "markdown",
      "source": [
        "### Variables Description"
      ],
      "metadata": {
        "id": "PBTbrJXOngz2"
      }
    },
    {
      "cell_type": "markdown",
      "source": [
        "1. *___ job ___*\n",
        "\n",
        "*   This feature depicts the type of jobs.\n",
        "*   There are 12 unique categories i.e 'management','technician', 'entrepreneur','blue-collar','unknown','retired','admin.','services','self-employed','unemployed','housemaid'and 'student'.\n",
        "*   In this column we have 0.64% unknown values .\n",
        "\n",
        "2.   *___ marital ___*\n",
        "\n",
        "*   This column represents the marital status of the potential customers.\n",
        "*   It has 3 unique categories i.e 'married', 'single' and 'divorced'.\n",
        "*   We discovered that majorty of customers are married nearly 60% .\n",
        "\n",
        "3.  *___ education ___*\n",
        "\n",
        "*  This column represents the educational qualification of the potential customers.  \n",
        "* It has 3 unique categories i.e  'tertiary','secondary' and 'primary'.\n",
        "* We noticed that this column has 4.11% unknown values and majority of population with Secondry education (61%).\n",
        "\n",
        "4.  *___ Default ___*\n",
        "\n",
        "* This column represents whether the customer has credit in default or not.\n",
        "* It has two unique categories i.e either yes or no .\n",
        "* we observed that 98% population does not have credit in default.\n",
        "\n",
        "5.  *___ housing ___*\n",
        "\n",
        "* This columns depicts whether customer has a housing loan or not.\n",
        "* It has two unique categories i.e either yes or no .\n",
        "* We observed evenly distributed data in this column .\n",
        "\n",
        "6.  *___ loan ___*\n",
        "*This columns depicts whether customer has opted for any kind of loan or not.\n",
        "* It has two unique categories i.e either yes or no .\n",
        "* Majority of customers fall into the 'no' category.\n",
        "\n",
        "7.  *___ contact ___*\n",
        "* This column depicts the mode of communication with the potential customers.\n",
        "* It has two unique values 'Cellular' and 'Telephone'.\n",
        "* It was noticed that 28.80% had unknown values. The majority (64.77%) of the potential customers were contacted via cellular mode.\n",
        "\n",
        "8. *___months ___*\n",
        "* It depicts the months when the potential customers were last contacted.\n",
        "* Most of customers were contacted in the month of 'May' followed by 'July' and 'August'\n",
        "\n",
        "9. *___poutcome ___*\n",
        "* It depicts the result of the last campaign.\n",
        "* It consists 4 unique values i.e. 'sucess','failure'and 'others'.\n",
        "* Here 81.75% of the values were unknown.\n",
        "\n",
        "10. Target Variable: *___y ___*\n",
        "* This column suggests whether the customer went for term deposit or not.\n",
        "* It has two categories, 'Yes' and 'No'.\n",
        "\n",
        "11. *___age ___*\n",
        "* It represents the age of the potential customers.\n",
        "* We can see mean of the age is around 40 and median is also close to mean.\n",
        "\n",
        "12. *___balance ___*\n",
        "* It depicts the account balance.\n",
        "* Here we can see a huge gap in mean and median.\n",
        "\n",
        "13. *___day ___*\n",
        "* It depicts the day of the month (i.e. 1 to 31) on which the customer was last contacted.\n",
        "\n",
        "14. *___duration ___*\n",
        "* It depicts the time duration for which the customer was last contacted.\n",
        "**Note** As per the given instruction it should be only included for benchmark purposes and ignored if the objective is a realistic predictive model.\n",
        "\n",
        "15. *___campaign ___*\n",
        "* It represents how many times each prospective consumer was contacted as part of the current campaign.\n",
        "\n",
        "16. *___pdays ___*\n",
        "* It represents the number of days passed by after the client was contacted from a previous campaign.\n",
        "* Most of the clients were not contacted at all which is represented by -1 in the dataset.\n",
        "\n",
        "17. *___previous ___*\n",
        "* It is the number of contacts performed before this campaign."
      ],
      "metadata": {
        "id": "aJV4KIxSnxay"
      }
    },
    {
      "cell_type": "markdown",
      "source": [
        "### Check Unique Values for each variable."
      ],
      "metadata": {
        "id": "u3PMJOP6ngxN"
      }
    },
    {
      "cell_type": "code",
      "source": [
        "# Check Unique Values for each variable.\n",
        "bank_mp.nunique()"
      ],
      "metadata": {
        "id": "zms12Yq5n-jE"
      },
      "execution_count": null,
      "outputs": []
    },
    {
      "cell_type": "code",
      "source": [
        "# Check Unique Values for categorical each variable.\n",
        "for i in categorical_list:\n",
        "  print(\"Number of unique values in\",i,\"is\",bank_mp[i].unique(),\".\")"
      ],
      "metadata": {
        "id": "xXUvC6TCrE94"
      },
      "execution_count": null,
      "outputs": []
    },
    {
      "cell_type": "code",
      "source": [
        "## copying the data set\n",
        "df = bank_mp.copy()"
      ],
      "metadata": {
        "id": "SCtP2pIwt4uf"
      },
      "execution_count": null,
      "outputs": []
    },
    {
      "cell_type": "markdown",
      "source": [
        "## 3. ***Data Wrangling***"
      ],
      "metadata": {
        "id": "dauF4eBmngu3"
      }
    },
    {
      "cell_type": "markdown",
      "source": [
        "### Data Wrangling Code"
      ],
      "metadata": {
        "id": "bKJF3rekwFvQ"
      }
    },
    {
      "cell_type": "markdown",
      "source": [
        "**There are some 'unknow' values in our variables.Unknown values can be treated as null since they are not defined and can be taken out of features by treatment.**"
      ],
      "metadata": {
        "id": "Ra00I--WtSly"
      }
    },
    {
      "cell_type": "code",
      "source": [
        "# Write your code to make your dataset analysis ready.\n",
        "   ## Replacing the unknown values with null across all the dataset\n",
        "df = df.replace('unknown', np.nan)"
      ],
      "metadata": {
        "id": "wk-9a2fpoLcV"
      },
      "execution_count": null,
      "outputs": []
    },
    {
      "cell_type": "code",
      "source": [
        "# Checking for number of null values\n",
        "count_null_df=pd.DataFrame({'columns':df.columns,'number_of_nulls_values':df.isna().sum(),'percentage_null_values':round(df.isna().sum()*100/len(df),2)})\n",
        "count_null_df.set_index('columns').sort_values(by='percentage_null_values', ascending = False)"
      ],
      "metadata": {
        "id": "PWNaq6WyuWg0"
      },
      "execution_count": null,
      "outputs": []
    },
    {
      "cell_type": "code",
      "source": [
        "# Ploting number of null values with its variable\n",
        "plt.figure(figsize=(10,7))\n",
        "ax=sns.barplot(x='columns', y='percentage_null_values', data=count_null_df)\n",
        "ax.bar_label(ax.containers[0])\n",
        "plt.title('Percentage of null values with respect to Features')\n",
        "plt.xticks(rotation= 45)\n",
        "plt.show()"
      ],
      "metadata": {
        "id": "BodTcuWWudZz"
      },
      "execution_count": null,
      "outputs": []
    },
    {
      "cell_type": "markdown",
      "source": [
        "*  The null values for poutcome, contact, education, and job are 81.75%, 28.80%, 4.11%, and 0.64%, respectively.\n",
        "*  as we see  the poutcome has 82% unknow values\n"
      ],
      "metadata": {
        "id": "FqU5SXlZuwy3"
      }
    },
    {
      "cell_type": "code",
      "source": [
        "# Dropping variables having more than 50% null values\n",
        "## we are droping the poutcome variable\n",
        "df.drop(columns='poutcome', inplace=True,axis=1)\n",
        "\n",
        "# Replacing null values with the most frequent value in a variable\n",
        "df['contact']=df['contact'].fillna(df['contact'].mode()[0])\n",
        "df['education']=df['education'].fillna(df['education'].mode()[0])\n",
        "df['job']=df['job'].fillna(df['job'].mode()[0])"
      ],
      "metadata": {
        "id": "l1IyUZvivOIg"
      },
      "execution_count": null,
      "outputs": []
    },
    {
      "cell_type": "markdown",
      "source": [
        "* Replaced null values for features like contact, education, and job with their modes. In addition, features with more than 50% null values were removed because they were worthless and hindered model performance."
      ],
      "metadata": {
        "id": "Jck-7J2Wvuuk"
      }
    },
    {
      "cell_type": "code",
      "source": [
        "#mapping the non contacted values i.e. -1 as 0 and all other values as 1 in a new column p_contacted\n",
        "df['p_contacted'] = [0 if x == -1 else 1 for x in df.pdays]"
      ],
      "metadata": {
        "id": "kcJm_pkfw9ys"
      },
      "execution_count": null,
      "outputs": []
    },
    {
      "cell_type": "code",
      "source": [
        "#dropping the old column pdays\n",
        "df.drop(columns=['pdays'], inplace=True)"
      ],
      "metadata": {
        "id": "8ab03Xz1tcVA"
      },
      "execution_count": null,
      "outputs": []
    },
    {
      "cell_type": "markdown",
      "source": [
        "### What all manipulations have you done and insights you found?"
      ],
      "metadata": {
        "id": "MSa1f5Uengrz"
      }
    },
    {
      "cell_type": "markdown",
      "source": [
        "####There are some 'unknow' values in our variables.Unknown values can be treated as null. then replaced null values for features like contact, education, and job with their modes\n",
        "*  Job: There were 288 nan values in this column. So we substituted the same with the mode of the column i.e. \"Blue Collar jobs\" as it was a categorical variable.\n",
        "*  Education: There were 1857 nan values in this column, we substituted it with the mode i.e. \"Secondary Education\".\n",
        "*  Contact: Since there are 13,020 nan values in this column and we are aware that cellular communication is currently the most preferred one, we made the assumption that the nan values might be replaced with cellular type values. And also the mode of the column is 'Cellular'.\n",
        "* poutcome: we have remove the poutcome freature from our dataframe\n",
        "* pdays: We have mapped the non contacted values i.e -1 as 0 and all the other values as 1 and renamed it p_contacted, where 1 represents that the client was contacted."
      ],
      "metadata": {
        "id": "LbyXE7I1olp8"
      }
    },
    {
      "cell_type": "code",
      "source": [],
      "metadata": {
        "id": "e8AJhqFEsSbs"
      },
      "execution_count": null,
      "outputs": []
    },
    {
      "cell_type": "markdown",
      "source": [
        "## ***4. Data Vizualization, Storytelling & Experimenting with charts : Understand the relationships between variables***"
      ],
      "metadata": {
        "id": "GF8Ens_Soomf"
      }
    },
    {
      "cell_type": "markdown",
      "source": [
        "#### Chart - 1 - <font color=\"orange\">**Target Variable**"
      ],
      "metadata": {
        "id": "0wOQAZs5pc--"
      }
    },
    {
      "cell_type": "code",
      "source": [
        "# Chart - 1 visualization code\n",
        "# Ploting the pie chart to check the balance in the Target Variable.\n",
        "\n",
        "plt.figure(figsize=(7,5), dpi=100)\n",
        "proportion = df['y'].value_counts()\n",
        "labels = ['Not-Subscribed','Subscribed']\n",
        "plt.title('Proportion of Subscribed vs Not Subscribed term Deposit')\n",
        "plt.pie(proportion, explode=(0,0.2), labels=labels,\n",
        "        shadow = True, autopct = '%1.1f%%', colors= ['#8FBC8F','#DC8DE7'])\n",
        "\n",
        "plt.legend()\n",
        "plt.show()"
      ],
      "metadata": {
        "id": "7v_ESjsspbW7"
      },
      "execution_count": null,
      "outputs": []
    },
    {
      "cell_type": "markdown",
      "source": [
        "##### 1. Why did you pick the specific chart?"
      ],
      "metadata": {
        "id": "K5QZ13OEpz2H"
      }
    },
    {
      "cell_type": "markdown",
      "source": [
        "PIE CHART :-pie charts are used to represent the proportional data or relative data in a single chart. Since all the above features are of binary categories i.e it has two fields either yes or no we can know the percentage of occurance of these which may tell us some story."
      ],
      "metadata": {
        "id": "XESiWehPqBRc"
      }
    },
    {
      "cell_type": "markdown",
      "source": [
        "##### 2. What is/are the insight(s) found from the chart?"
      ],
      "metadata": {
        "id": "lQ7QKXXCp7Bj"
      }
    },
    {
      "cell_type": "markdown",
      "source": [
        "* Our target variable i.e y has majority of no, this the clear case of class imbalance.\n",
        "*  we see that 88.3% are not subscribed to deposit term\n",
        "*  only 11.7% are subscribed to deposit term\n"
      ],
      "metadata": {
        "id": "C_j1G7yiqdRP"
      }
    },
    {
      "cell_type": "markdown",
      "source": [
        "##### 3. Will the gained insights help creating a positive business impact?\n",
        "Are there any insights that lead to negative growth? Justify with specific reason."
      ],
      "metadata": {
        "id": "448CDAPjqfQr"
      }
    },
    {
      "cell_type": "markdown",
      "source": [
        "* yes, the above insights help creating a positive business impact Our target variable i.e y has majority of no, this the clear  case of class imbalance.\n",
        "* Yes Class imbalance can have ill impact on the accuracy of the classification model So it will be necessory for us to treat this problem before putting the data in training. Other imformation which are available to us through the pie chart can be helpful in categorizing the customers into groups and then make plans accordingly."
      ],
      "metadata": {
        "id": "3cspy4FjqxJW"
      }
    },
    {
      "cell_type": "markdown",
      "source": [
        "#### Chart - 2- <font color=\"orange\"> **Continuous variables**"
      ],
      "metadata": {
        "id": "KSlN3yHqYklG"
      }
    },
    {
      "cell_type": "code",
      "source": [
        "# Chart - 2 visualization code\n",
        "#  -- Continuous variables\n",
        "# defining a function to plot the count of the continuous variables of the dataset\n",
        "def plot_cont(x):\n",
        "\n",
        "    fig = plt.figure(figsize=(15,30))\n",
        "    plt.subplots_adjust(hspace=.25)\n",
        "\n",
        "    nrows = len(x.columns) //2 +1\n",
        "    ncols = 2\n",
        "\n",
        "    for i,t in enumerate(list(x.columns)):\n",
        "        ax = fig.add_subplot(nrows, ncols, i+1)\n",
        "        sns.distplot(a= df[t],\n",
        "                     ax=ax, color= 'orange')\n",
        "        plt.title(t + '_distribution')"
      ],
      "metadata": {
        "id": "R4YgtaqtYklH"
      },
      "execution_count": null,
      "outputs": []
    },
    {
      "cell_type": "code",
      "source": [
        "# using the defined function to plot the probability density graphs of the continuous variables\n",
        "plot_cont(df[continuous_list])"
      ],
      "metadata": {
        "id": "IYg5HSCN5o6J"
      },
      "execution_count": null,
      "outputs": []
    },
    {
      "cell_type": "markdown",
      "source": [
        "##### 1. Why did you pick the specific chart?"
      ],
      "metadata": {
        "id": "t6dVpIINYklI"
      }
    },
    {
      "cell_type": "markdown",
      "source": [
        "*  DISTRIBUTION PLOT :- We are plotting the probability density function for the different continuous variables to check the spread of data.It provides the details of where the centeral tendencies lie and what is the variance of particular feature.\n",
        "\n"
      ],
      "metadata": {
        "id": "5aaW0BYyYklI"
      }
    },
    {
      "cell_type": "markdown",
      "source": [
        "##### 2. What is/are the insight(s) found from the chart?"
      ],
      "metadata": {
        "id": "ijmpgYnKYklI"
      }
    },
    {
      "cell_type": "markdown",
      "source": [
        "**These are the insights found from diffrent variables :-**\n",
        "\n",
        "*  The population belongs to the age group below 60 that is working population is our target customers.\n",
        "*  Majority of people earns less than $6000.\n",
        "* There is a huge bump at zero in both previous and campaign columns that means most of the customers were not contacted at all.\n"
      ],
      "metadata": {
        "id": "PSx9atu2YklI"
      }
    },
    {
      "cell_type": "markdown",
      "source": [
        "##### 3. Will the gained insights help creating a positive business impact?\n",
        "Are there any insights that lead to negative growth? Justify with specific reason."
      ],
      "metadata": {
        "id": "-JiQyfWJYklI"
      }
    },
    {
      "cell_type": "markdown",
      "source": [
        "*  Ofcourse above insights can be helpful in targeting our customers as per their age and salary . They may be a potential customer who may do term deposit in near future. Since we saw that most of the customers were not contacted it means we are losing out on these potential customers because we are leaving them unattended.\n",
        "\n"
      ],
      "metadata": {
        "id": "BcBbebzrYklV"
      }
    },
    {
      "cell_type": "markdown",
      "source": [
        "#### Chart - 3  - <font color=\"orange\">Which age group is more focus by marketing team"
      ],
      "metadata": {
        "id": "EM7whBJCYoAo"
      }
    },
    {
      "cell_type": "code",
      "source": [
        "# Chart - 3 visualization code\n",
        "# Which age group is more focus by marketing team\n",
        "# plotting histogram for age distribution\n",
        "plt.figure(figsize=(10,6))\n",
        "plt.style.use('ggplot')\n",
        "sns.histplot(data=df, x=\"age\",hue='y', bins='auto', kde=True)\n",
        "plt.title('Age Distribution')"
      ],
      "metadata": {
        "id": "t6GMdE67YoAp"
      },
      "execution_count": null,
      "outputs": []
    },
    {
      "cell_type": "markdown",
      "source": [
        "##### 1. Why did you pick the specific chart?"
      ],
      "metadata": {
        "id": "fge-S5ZAYoAp"
      }
    },
    {
      "cell_type": "markdown",
      "source": [
        "* I have picked the above chart because it gives  offers a comprehensive visualization of the data distribution.\n",
        "* It allows for a better understanding of the distribution's characteristics, such as its shape, peaks, and deviations from a normal distribution."
      ],
      "metadata": {
        "id": "5dBItgRVYoAp"
      }
    },
    {
      "cell_type": "markdown",
      "source": [
        "##### 2. What is/are the insight(s) found from the chart?"
      ],
      "metadata": {
        "id": "85gYPyotYoAp"
      }
    },
    {
      "cell_type": "markdown",
      "source": [
        "* We noticed that, marketing team focusing from age 25 to 55 and specially focusing on age group 27 to 40, and that makes sense as peoples belongs to this age have most probability to subscribe, given by data that most of 'yes' (subscribed) is between 27-40 age group."
      ],
      "metadata": {
        "id": "4jstXR6OYoAp"
      }
    },
    {
      "cell_type": "markdown",
      "source": [
        "##### 3. Will the gained insights help creating a positive business impact?\n",
        "Are there any insights that lead to negative growth? Justify with specific reason."
      ],
      "metadata": {
        "id": "RoGjAbkUYoAp"
      }
    },
    {
      "cell_type": "markdown",
      "source": [
        "* yes, the gained insights help creating a positive business impact in taking the decision like which age group people are interesting in subscribing the deposite term"
      ],
      "metadata": {
        "id": "zfJ8IqMcYoAp"
      }
    },
    {
      "cell_type": "markdown",
      "source": [
        "#### Chart - 4 - <font color=\"orange\"> Barplot for categorical"
      ],
      "metadata": {
        "id": "4Of9eVA-YrdM"
      }
    },
    {
      "cell_type": "code",
      "source": [
        "# Chart - 4 visualization code\n",
        "# plotting barplots for all the categorical variables which are not binary type\n",
        "relevant_list1 = ['job','marital','education',\n",
        " 'month','contact']\n",
        "for col in relevant_list1:\n",
        "    plt.figure(figsize=(10,4))\n",
        "    sns.barplot(x = df[col].value_counts().values, y = df[col].value_counts().index, palette=\"husl\")\n",
        "    plt.title(col)\n",
        "    plt.tight_layout()"
      ],
      "metadata": {
        "id": "irlUoxc8YrdO"
      },
      "execution_count": null,
      "outputs": []
    },
    {
      "cell_type": "markdown",
      "source": [
        "##### 1. Why did you pick the specific chart?"
      ],
      "metadata": {
        "id": "iky9q4vBYrdO"
      }
    },
    {
      "cell_type": "markdown",
      "source": [
        "BAR PLOT :- All the features that we have taken in the above plots have more than two categories. So we chose column charts to know the number of outcomes in each categories."
      ],
      "metadata": {
        "id": "aJRCwT6DYrdO"
      }
    },
    {
      "cell_type": "markdown",
      "source": [
        "##### 2. What is/are the insight(s) found from the chart?"
      ],
      "metadata": {
        "id": "F6T5p64dYrdO"
      }
    },
    {
      "cell_type": "markdown",
      "source": [
        "**We can see that :-**\n",
        "\n",
        "*  The majority of targeted clients are employed in Blue Collar jobs followed by management and technician\n",
        "*  The majority of targeted clients have only completed secondary education.\n",
        "*  Most of the potential clients are married.\n",
        "\n",
        "* Most of the contacts were made with the cellular mode"
      ],
      "metadata": {
        "id": "Xx8WAJvtYrdO"
      }
    },
    {
      "cell_type": "markdown",
      "source": [
        "##### 3. Will the gained insights help creating a positive business impact?\n",
        "Are there any insights that lead to negative growth? Justify with specific reason."
      ],
      "metadata": {
        "id": "y-Ehk30pYrdP"
      }
    },
    {
      "cell_type": "markdown",
      "source": [
        "\n",
        "* Above plots can be useful in categorizing the clients in terms of their employment , education and marital status , which can be useful in making effective strategies to  different groups."
      ],
      "metadata": {
        "id": "jLNxxz7MYrdP"
      }
    },
    {
      "cell_type": "markdown",
      "source": [
        "#### Chart - 5"
      ],
      "metadata": {
        "id": "bamQiAODYuh1"
      }
    },
    {
      "cell_type": "code",
      "source": [
        "# Chart - 5 visualization code\n",
        "# defining a function to plot bar graphs of categorical variables with the target variable.\n",
        "def plot_cat_data(df,dep_var):\n",
        "  cat_columns = list(set(df.describe().columns)^set(df.columns))\n",
        "  cat_columns.remove(dep_var)\n",
        "  for i,e in enumerate(cat_columns):\n",
        "    plt.figure(i)\n",
        "    ax = sns.countplot(x=df[e],hue=df[dep_var])\n",
        "    for p in ax.patches:\n",
        "      height = p.get_height()\n",
        "      ax.text(p.get_x()+p.get_width()/2.,\n",
        "              height + 3,\n",
        "              '{:1.2f}'.format(height/df.shape[0]),\n",
        "              ha=\"center\")\n",
        "    if(len(ax.patches)>10):\n",
        "      plt.xticks(rotation=90)\n",
        "    plt.title(f'Term deposit in terms of {e}')\n",
        "    plt.show()"
      ],
      "metadata": {
        "id": "TIJwrbroYuh3"
      },
      "execution_count": null,
      "outputs": []
    },
    {
      "cell_type": "code",
      "source": [
        " #using the defined function to plot bar graph\n",
        "plot_cat_data(df,'y')"
      ],
      "metadata": {
        "id": "TFkWHPk8BW5u"
      },
      "execution_count": null,
      "outputs": []
    },
    {
      "cell_type": "markdown",
      "source": [
        "##### 1. Why did you pick the specific chart?"
      ],
      "metadata": {
        "id": "QHF8YVU7Yuh3"
      }
    },
    {
      "cell_type": "markdown",
      "source": [
        "*  BAR CHART :- We have used bar charts to count the values of clients who have opted for term deposit and those who have not opted for it.\n",
        "\n"
      ],
      "metadata": {
        "id": "dcxuIMRPYuh3"
      }
    },
    {
      "cell_type": "markdown",
      "source": [
        "##### 2. What is/are the insight(s) found from the chart?"
      ],
      "metadata": {
        "id": "GwzvFGzlYuh3"
      }
    },
    {
      "cell_type": "markdown",
      "source": [
        "Based on the above bar chart we came up with the following insights :-\n",
        "\n",
        "* It is clear that only those who have previously not defaulted on their credit have chosen to use term deposits, in contrast to those who defaulted on their credit.\n",
        "* We can observe that the majority of married and single clients chose term deposits, while just 0.01 of the customers who were divorced did.\n",
        "* It cannot be clearly said that the y(term deposit) is dependent on the success or failure of the previous campaign as 0.08 agreed to the term deposit whose poutcome were unknown.\n",
        "* Majority of the people who have not opted for any personal loan have made a term deposit.\n",
        "* People contacted in May have higher chances to subscribe for term deposits but have also higher chances for not subscribing the term deposits .\n",
        "* Very few people are contacted in the month of December, March, September,October and have almost equal chances for subscribing the deposits or not."
      ],
      "metadata": {
        "id": "uyqkiB8YYuh3"
      }
    },
    {
      "cell_type": "markdown",
      "source": [
        "##### 3. Will the gained insights help creating a positive business impact?\n",
        "Are there any insights that lead to negative growth? Justify with specific reason."
      ],
      "metadata": {
        "id": "qYpmQ266Yuh3"
      }
    },
    {
      "cell_type": "markdown",
      "source": [
        "Answer Here"
      ],
      "metadata": {
        "id": "_WtzZ_hCYuh4"
      }
    },
    {
      "cell_type": "markdown",
      "source": [
        "#### Chart - 6 -<font color=\"orange\">Boxplot to find Outliers"
      ],
      "metadata": {
        "id": "OH-pJp9IphqM"
      }
    },
    {
      "cell_type": "code",
      "source": [
        "# Chart - 6 visualization code\n",
        "# using box plot to find the median and quartiles and know the distribution of the continous distribution\n",
        "nrows = len(continuous_list)\n",
        "fig, axes = plt.subplots(ncols=1,\n",
        "                         nrows=nrows,\n",
        "                         figsize=(15,nrows*2))\n",
        "plt.subplots_adjust(hspace=1)\n",
        "\n",
        "for i, var in enumerate(continuous_list):\n",
        "    sns.boxplot(df[var], orient='h', ax=axes[i],color= 'steelblue')\n",
        "\n",
        "fig.suptitle('Box Plots Highlighting Outliers', fontweight='bold')\n",
        "plt.show()"
      ],
      "metadata": {
        "id": "kuRf4wtuphqN"
      },
      "execution_count": null,
      "outputs": []
    },
    {
      "cell_type": "markdown",
      "source": [
        "##### 1. Why did you pick the specific chart?"
      ],
      "metadata": {
        "id": "bbFf2-_FphqN"
      }
    },
    {
      "cell_type": "markdown",
      "source": [
        "*  The specific chart used in the code is a boxplot, which was chosen for its effectiveness in comparing multiple variables, detecting outliers, visualizing distributions, and providing a concise summary of the data.\n",
        "* The notch feature adds a confidence interval around the median, enhancing comparison. The boxplot's space efficiency allows for displaying multiple variables in a compact manner."
      ],
      "metadata": {
        "id": "loh7H2nzphqN"
      }
    },
    {
      "cell_type": "markdown",
      "source": [
        "##### 2. What is/are the insight(s) found from the chart?"
      ],
      "metadata": {
        "id": "_ouA3fa0phqN"
      }
    },
    {
      "cell_type": "markdown",
      "source": [
        "* we can see every variables contain outliers\n",
        "* The presence of outliers in each of the features indicates the existence of extreme values that deviate significantly from the overall pattern of the data. These outliers can potentially impact the model fitting process and the accuracy of the predictions. Therefore, it is crucial to address these outliers before proceeding with model fitting.\n",
        "* The median age of the customers is near 40 years and there are only a few older population.\n",
        "* We can see that a significant number of customers received more than 20 contacts, whereas the majority of customers received no contacts at all.\n",
        "* Same is the case with duration of the call in the last contact where some customers were given ample amout of time while majority calls were of the shorter duration."
      ],
      "metadata": {
        "id": "VECbqPI7phqN"
      }
    },
    {
      "cell_type": "markdown",
      "source": [
        "##### 3. Will the gained insights help creating a positive business impact?\n",
        "Are there any insights that lead to negative growth? Justify with specific reason."
      ],
      "metadata": {
        "id": "Seke61FWphqN"
      }
    },
    {
      "cell_type": "markdown",
      "source": [
        "*  Yes, the above information might be useful in determining where the business is making mistakes when it comes to consumer engagement. The company may benefit if the right clients are targeted with a right strategy.\n",
        "*  To handle outliers, various approaches can be employed, such as removing them from the dataset, transforming the data using robust statistical techniques, or imputing them with more representative values. The choice of the method depends on the nature of the data and the specific requirements of the analysis.\n"
      ],
      "metadata": {
        "id": "DW4_bGpfphqN"
      }
    },
    {
      "cell_type": "markdown",
      "source": [
        "#### Chart - 7"
      ],
      "metadata": {
        "id": "PIIx-8_IphqN"
      }
    },
    {
      "cell_type": "code",
      "source": [
        "# Chart - 7 visualization code\n",
        "      #Understanding relationship between Variables\n",
        "abc = list(df[continuous_list].columns.values)\n",
        "abc.remove('age')\n",
        "n=1\n",
        "fig = plt.figure(figsize=(15,12))\n",
        "for i in abc:\n",
        "    plt.subplot(3,3,n)\n",
        "    n=n+1\n",
        "    #fig = plt.figure(figsize=(8,8))\n",
        "    sns.scatterplot(x=df.age, y=df[i], hue='y', data=df)\n",
        "    plt.title(f'Age vs {i} with \"yes\" values')\n",
        "    plt.title(i)\n",
        "    plt.tight_layout()"
      ],
      "metadata": {
        "id": "lqAIGUfyphqO"
      },
      "execution_count": null,
      "outputs": []
    },
    {
      "cell_type": "markdown",
      "source": [
        "##### 1. Why did you pick the specific chart?"
      ],
      "metadata": {
        "id": "t27r6nlMphqO"
      }
    },
    {
      "cell_type": "markdown",
      "source": [
        "*  SCATTER PLOT :- We used scatter plots to see the patterns of various continuous features with respect to age and we are identifying the conditions on which conversion of a customer depends"
      ],
      "metadata": {
        "id": "iv6ro40sphqO"
      }
    },
    {
      "cell_type": "markdown",
      "source": [
        "##### 2. What is/are the insight(s) found from the chart?"
      ],
      "metadata": {
        "id": "r2jJGEOYphqO"
      }
    },
    {
      "cell_type": "markdown",
      "source": [
        "* The customers who spent less than 200 seconds on the phone call are not interested for the term deposit.\n",
        "* Those who are earning less than 10,000 are mostly going for term deposit.\n",
        "* We can see a very unusual pattern that when a customer who is contacted large number of times are not converting.\n"
      ],
      "metadata": {
        "id": "Po6ZPi4hphqO"
      }
    },
    {
      "cell_type": "markdown",
      "source": [
        "##### 3. Will the gained insights help creating a positive business impact?\n",
        "Are there any insights that lead to negative growth? Justify with specific reason."
      ],
      "metadata": {
        "id": "b0JNsNcRphqO"
      }
    },
    {
      "cell_type": "markdown",
      "source": [
        "Answer Here"
      ],
      "metadata": {
        "id": "xvSq8iUTphqO"
      }
    },
    {
      "cell_type": "markdown",
      "source": [
        "#### Chart - 8"
      ],
      "metadata": {
        "id": "BZR9WyysphqO"
      }
    },
    {
      "cell_type": "code",
      "source": [
        "# Chart - 8 visualization code\n",
        "# plotting a count plot to vizualize the number of customers according to their jobs and level of education by using group by operation\n",
        "df_yes = df[df.y=='yes']\n",
        "df_yes.groupby(['job','education','y'])['y'].count().plot(kind=\"bar\",title = 'Number of clients who took term deposit as per their job and education', color=\"blue\")"
      ],
      "metadata": {
        "id": "TdPTWpAVphqO"
      },
      "execution_count": null,
      "outputs": []
    },
    {
      "cell_type": "markdown",
      "source": [
        "##### 1. Why did you pick the specific chart?"
      ],
      "metadata": {
        "id": "jj7wYXLtphqO"
      }
    },
    {
      "cell_type": "markdown",
      "source": [
        "BAR-COUNT PLOT :- Here, we used a Bar- Count Plot and visualised the number of clients who have made term deposits using a bar-count plot, grouping them based on their jobs and degree of education. We picked this particular graph since we were curious about the customer count.\n",
        "\n"
      ],
      "metadata": {
        "id": "Ob8u6rCTphqO"
      }
    },
    {
      "cell_type": "markdown",
      "source": [
        "##### 2. What is/are the insight(s) found from the chart?"
      ],
      "metadata": {
        "id": "eZrbJ2SmphqO"
      }
    },
    {
      "cell_type": "markdown",
      "source": [
        "* We can see that the most of clients who have management-related jobs and a tertiary degree have made the most term deposits.\n",
        "* Also, customers with the secondary level of education are the most with term deposits.\n"
      ],
      "metadata": {
        "id": "mZtgC_hjphqO"
      }
    },
    {
      "cell_type": "markdown",
      "source": [
        "##### 3. Will the gained insights help creating a positive business impact?\n",
        "Are there any insights that lead to negative growth? Justify with specific reason."
      ],
      "metadata": {
        "id": "rFu4xreNphqO"
      }
    },
    {
      "cell_type": "markdown",
      "source": [
        "* Because they are less prevalent, strategies can be developed to engage clients who are unemployed and have only completed their primary education.\n",
        "Additionally, Company can devise strategies to engage socially disadvantaged clients, including housemaids and technicians, who seldom have any money left over for term deposits.\n"
      ],
      "metadata": {
        "id": "ey_0qi68phqO"
      }
    },
    {
      "cell_type": "markdown",
      "source": [
        "#### Chart - 9"
      ],
      "metadata": {
        "id": "YJ55k-q6phqO"
      }
    },
    {
      "cell_type": "code",
      "source": [
        "# Chart - 9 visualization code\n",
        "#   adjusting the size\n",
        "rcParams['figure.figsize'] = 7,8\n",
        "# creatung subplots\n",
        "fig, ax = plt.subplots(2)\n",
        "\n",
        "# plotting the histograms of the counts with respect to subscription\n",
        "sns.histplot(df, x='housing', hue='y', multiple='stack', shrink=0.5, ax=ax[0], palette='Blues')\n",
        "sns.histplot(df, x='loan', hue='y', multiple='stack', shrink=0.5, ax=ax[1], palette='YlOrBr')\n",
        "plt.show()"
      ],
      "metadata": {
        "id": "B2aS4O1ophqO"
      },
      "execution_count": null,
      "outputs": []
    },
    {
      "cell_type": "markdown",
      "source": [
        "##### 1. Why did you pick the specific chart?"
      ],
      "metadata": {
        "id": "gCFgpxoyphqP"
      }
    },
    {
      "cell_type": "markdown",
      "source": [
        "*  histogram is a classic visualization tool that represents the distribution of one or more variables by counting the number of observations that fall within discrete bins"
      ],
      "metadata": {
        "id": "TVxDimi2phqP"
      }
    },
    {
      "cell_type": "markdown",
      "source": [
        "##### 2. What is/are the insight(s) found from the chart?"
      ],
      "metadata": {
        "id": "OVtJsKN_phqQ"
      }
    },
    {
      "cell_type": "markdown",
      "source": [
        " Based on the bar chart above we came up with following insights :-\n",
        "\n",
        "*  If a customer is completely loan free he is more likely to go for term deposit.\n",
        "*  The customers who already have both kind of loan are less likely to go for term deposit.\n",
        "*  The customers who has only housing loan are second best options out of these conditions."
      ],
      "metadata": {
        "id": "ngGi97qjphqQ"
      }
    },
    {
      "cell_type": "markdown",
      "source": [
        "##### 3. Will the gained insights help creating a positive business impact?\n",
        "Are there any insights that lead to negative growth? Justify with specific reason."
      ],
      "metadata": {
        "id": "lssrdh5qphqQ"
      }
    },
    {
      "cell_type": "markdown",
      "source": [
        "* From the above insights potentential customers can be identified and based on that various strategies can be formed to acquire these customers. Clearly customers who does not have any kind of loan is the best customers to target.\n",
        "\n"
      ],
      "metadata": {
        "id": "tBpY5ekJphqQ"
      }
    },
    {
      "cell_type": "markdown",
      "source": [
        "#### Chart - 10 - <font color= \"orange\"> Correlation Heatmap"
      ],
      "metadata": {
        "id": "U2RJ9gkRphqQ"
      }
    },
    {
      "cell_type": "code",
      "source": [
        "# Chart - 10 visualization code\n",
        "# checking heatmap/correlation matrix to see the how the colums are correlated with each other\n",
        "f, ax = plt.subplots(figsize = (10, 6))\n",
        "sns.heatmap(df.corr(),ax = ax, annot=True, cmap=sns.diverging_palette(10, 133, as_cmap=True), linewidths=0.5)"
      ],
      "metadata": {
        "id": "GM7a4YP4phqQ"
      },
      "execution_count": null,
      "outputs": []
    },
    {
      "cell_type": "markdown",
      "source": [
        "##### 1. Why did you pick the specific chart?"
      ],
      "metadata": {
        "id": "1M8mcRywphqQ"
      }
    },
    {
      "cell_type": "markdown",
      "source": [
        "*  Heatmaps are used to visually represent data in a matrix form where each cell's color is determined by its value.\n",
        "*  Heatmaps are commonly used in data visualization to represent patterns or relationships in data, and to identify areas of high and low values or activity.*  Heatmap consists of small square boxes having a numeric value known as correlation coefficient.\n",
        "*  A correlation coefficient is a statistical measure that indicates the strength and direction of a linear relationship between two variables.\n",
        "*  A correlation coefficient of 0 indicates no linear relationship between the two variables, while a correlation coefficient of 1 indicates a perfect positive linear relationship"
      ],
      "metadata": {
        "id": "8agQvks0phqQ"
      }
    },
    {
      "cell_type": "markdown",
      "source": [
        "##### 2. What is/are the insight(s) found from the chart?"
      ],
      "metadata": {
        "id": "tgIPom80phqQ"
      }
    },
    {
      "cell_type": "markdown",
      "source": [
        "* it is clear that all other variables are not that correlated, with the exception of previous and p contacted, which have a 0.53 correlation and pdays and p_contacted are 0.87 correlation"
      ],
      "metadata": {
        "id": "Qp13pnNzphqQ"
      }
    },
    {
      "cell_type": "markdown",
      "source": [
        "##### 3. Will the gained insights help creating a positive business impact?\n",
        "Are there any insights that lead to negative growth? Justify with specific reason."
      ],
      "metadata": {
        "id": "JMzcOPDDphqR"
      }
    },
    {
      "cell_type": "markdown",
      "source": [],
      "metadata": {
        "id": "R4Ka1PC2phqR"
      }
    },
    {
      "cell_type": "markdown",
      "source": [
        " #### Chart - 11 -  <font color= \"orange\"> Pair plot"
      ],
      "metadata": {
        "id": "x-EpHcCOp1ci"
      }
    },
    {
      "cell_type": "code",
      "source": [
        "# Chart - 11 visualization code\n",
        "sns.pairplot(df[continuous_list], palette=\"husl\")"
      ],
      "metadata": {
        "id": "mAQTIvtqp1cj"
      },
      "execution_count": null,
      "outputs": []
    },
    {
      "cell_type": "markdown",
      "source": [
        "##### 1. Why did you pick the specific chart?"
      ],
      "metadata": {
        "id": "X_VqEhTip1ck"
      }
    },
    {
      "cell_type": "markdown",
      "source": [
        "*  A pair plot graph is used for analyzing, it helps explore relationships, detect patterns and trends, and identify outliers.\n",
        "*  It allows for correlation analysis and understanding of data distributions.\n",
        "* The visualization of time series data is facilitated, aiding in the identification of long-term trends.\n",
        "* Pair plots are visually appealing and effective for communicating findings to stakeholders. They can generate hypotheses and compare variables with other relevant factors.\n",
        "*  Pair plots support exploratory data analysis, serving as a starting point for further analysis."
      ],
      "metadata": {
        "id": "-vsMzt_np1ck"
      }
    },
    {
      "cell_type": "markdown",
      "source": [
        "##### 2. What is/are the insight(s) found from the chart?"
      ],
      "metadata": {
        "id": "8zGJKyg5p1ck"
      }
    },
    {
      "cell_type": "markdown",
      "source": [
        "*  A pair plot allows us to see both distribution of single variables and relationships between two variables . Pair plots are a great method to identify trends for follow-up analysis."
      ],
      "metadata": {
        "id": "ZYdMsrqVp1ck"
      }
    },
    {
      "cell_type": "markdown",
      "source": [
        "##### 3. Will the gained insights help creating a positive business impact?\n",
        "Are there any insights that lead to negative growth? Justify with specific reason."
      ],
      "metadata": {
        "id": "PVzmfK_Ep1ck"
      }
    },
    {
      "cell_type": "markdown",
      "source": [
        "Answer Here"
      ],
      "metadata": {
        "id": "druuKYZpp1ck"
      }
    },
    {
      "cell_type": "markdown",
      "source": [
        "#### Chart - 12"
      ],
      "metadata": {
        "id": "n3dbpmDWp1ck"
      }
    },
    {
      "cell_type": "code",
      "source": [
        "# Chart - 12 visualization code"
      ],
      "metadata": {
        "id": "bwevp1tKp1ck"
      },
      "execution_count": null,
      "outputs": []
    },
    {
      "cell_type": "markdown",
      "source": [
        "##### 1. Why did you pick the specific chart?"
      ],
      "metadata": {
        "id": "ylSl6qgtp1ck"
      }
    },
    {
      "cell_type": "markdown",
      "source": [
        "Answer Here."
      ],
      "metadata": {
        "id": "m2xqNkiQp1ck"
      }
    },
    {
      "cell_type": "markdown",
      "source": [
        "##### 2. What is/are the insight(s) found from the chart?"
      ],
      "metadata": {
        "id": "ZWILFDl5p1ck"
      }
    },
    {
      "cell_type": "markdown",
      "source": [
        "Answer Here"
      ],
      "metadata": {
        "id": "x-lUsV2mp1ck"
      }
    },
    {
      "cell_type": "markdown",
      "source": [
        "##### 3. Will the gained insights help creating a positive business impact?\n",
        "Are there any insights that lead to negative growth? Justify with specific reason."
      ],
      "metadata": {
        "id": "M7G43BXep1ck"
      }
    },
    {
      "cell_type": "markdown",
      "source": [
        "Answer Here"
      ],
      "metadata": {
        "id": "5wwDJXsLp1cl"
      }
    },
    {
      "cell_type": "markdown",
      "source": [
        "#### Chart - 13"
      ],
      "metadata": {
        "id": "Ag9LCva-p1cl"
      }
    },
    {
      "cell_type": "code",
      "source": [
        "# Chart - 13 visualization code"
      ],
      "metadata": {
        "id": "EUfxeq9-p1cl"
      },
      "execution_count": null,
      "outputs": []
    },
    {
      "cell_type": "markdown",
      "source": [
        "##### 1. Why did you pick the specific chart?"
      ],
      "metadata": {
        "id": "E6MkPsBcp1cl"
      }
    },
    {
      "cell_type": "markdown",
      "source": [
        "Answer Here."
      ],
      "metadata": {
        "id": "V22bRsFWp1cl"
      }
    },
    {
      "cell_type": "markdown",
      "source": [
        "##### 2. What is/are the insight(s) found from the chart?"
      ],
      "metadata": {
        "id": "2cELzS2fp1cl"
      }
    },
    {
      "cell_type": "markdown",
      "source": [
        "Answer Here"
      ],
      "metadata": {
        "id": "ozQPc2_Ip1cl"
      }
    },
    {
      "cell_type": "markdown",
      "source": [
        "##### 3. Will the gained insights help creating a positive business impact?\n",
        "Are there any insights that lead to negative growth? Justify with specific reason."
      ],
      "metadata": {
        "id": "3MPXvC8up1cl"
      }
    },
    {
      "cell_type": "markdown",
      "source": [
        "Answer Here"
      ],
      "metadata": {
        "id": "GL8l1tdLp1cl"
      }
    },
    {
      "cell_type": "markdown",
      "source": [
        "#### Chart - 14 - Correlation Heatmap"
      ],
      "metadata": {
        "id": "NC_X3p0fY2L0"
      }
    },
    {
      "cell_type": "code",
      "source": [
        "# Correlation Heatmap visualization code"
      ],
      "metadata": {
        "id": "xyC9zolEZNRQ"
      },
      "execution_count": null,
      "outputs": []
    },
    {
      "cell_type": "markdown",
      "source": [
        "##### 1. Why did you pick the specific chart?"
      ],
      "metadata": {
        "id": "UV0SzAkaZNRQ"
      }
    },
    {
      "cell_type": "markdown",
      "source": [
        "Answer Here."
      ],
      "metadata": {
        "id": "DVPuT8LYZNRQ"
      }
    },
    {
      "cell_type": "markdown",
      "source": [
        "##### 2. What is/are the insight(s) found from the chart?"
      ],
      "metadata": {
        "id": "YPEH6qLeZNRQ"
      }
    },
    {
      "cell_type": "markdown",
      "source": [
        "Answer Here"
      ],
      "metadata": {
        "id": "bfSqtnDqZNRR"
      }
    },
    {
      "cell_type": "markdown",
      "source": [
        "#### Chart - 15 - Pair Plot"
      ],
      "metadata": {
        "id": "q29F0dvdveiT"
      }
    },
    {
      "cell_type": "code",
      "source": [
        "# Pair Plot visualization code"
      ],
      "metadata": {
        "id": "o58-TEIhveiU"
      },
      "execution_count": null,
      "outputs": []
    },
    {
      "cell_type": "markdown",
      "source": [
        "##### 1. Why did you pick the specific chart?"
      ],
      "metadata": {
        "id": "EXh0U9oCveiU"
      }
    },
    {
      "cell_type": "markdown",
      "source": [
        "Answer Here."
      ],
      "metadata": {
        "id": "eMmPjTByveiU"
      }
    },
    {
      "cell_type": "markdown",
      "source": [
        "##### 2. What is/are the insight(s) found from the chart?"
      ],
      "metadata": {
        "id": "22aHeOlLveiV"
      }
    },
    {
      "cell_type": "markdown",
      "source": [
        "Answer Here"
      ],
      "metadata": {
        "id": "uPQ8RGwHveiV"
      }
    },
    {
      "cell_type": "markdown",
      "source": [
        "## ***5. Hypothesis Testing***"
      ],
      "metadata": {
        "id": "g-ATYxFrGrvw"
      }
    },
    {
      "cell_type": "markdown",
      "source": [
        "### Based on your chart experiments, define three hypothetical statements from the dataset. In the next three questions, perform hypothesis testing to obtain final conclusion about the statements through your code and statistical testing."
      ],
      "metadata": {
        "id": "Yfr_Vlr8HBkt"
      }
    },
    {
      "cell_type": "code",
      "source": [
        "from numpy import math"
      ],
      "metadata": {
        "id": "f0emj5NKJc-2"
      },
      "execution_count": null,
      "outputs": []
    },
    {
      "cell_type": "code",
      "source": [
        "\n",
        "# helper functions\n",
        "class statistic:\n",
        "  def proportion(self,sample,hyp,size):\n",
        "    return (sample - hyp)/math.sqrt(hyp*(1-hyp)/size)\n",
        "  def mean(self,hyp,sample,size,std):\n",
        "    return (sample - hyp)*math.sqrt(size)/std\n",
        "  def varience(self,hyp,sample,size):\n",
        "    return (size-1)*sample/hyp"
      ],
      "metadata": {
        "id": "fvTZRK1fJIfT"
      },
      "execution_count": null,
      "outputs": []
    },
    {
      "cell_type": "code",
      "source": [
        "# calculating variance\n",
        "variance = lambda x : sum([(i - np.mean(x))**2 for i in x])/(len(x)-1)"
      ],
      "metadata": {
        "id": "hTDYBnQ_JNTg"
      },
      "execution_count": null,
      "outputs": []
    },
    {
      "cell_type": "code",
      "source": [
        "# creating instance of the class\n",
        "statistic = statistic()"
      ],
      "metadata": {
        "id": "a-p0QDWKJ-gN"
      },
      "execution_count": null,
      "outputs": []
    },
    {
      "cell_type": "code",
      "source": [
        "# creating a function\n",
        "def conclusion(p):\n",
        "  significance_level = 0.05\n",
        "  if p>significance_level:\n",
        "    return f\"Failed to reject the Null Hypothesis for p = {p}.\"\n",
        "  else:\n",
        "    return f\"Null Hypothesis rejected Successfully for p = {p}\""
      ],
      "metadata": {
        "id": "meQy2VXOKAAn"
      },
      "execution_count": null,
      "outputs": []
    },
    {
      "cell_type": "code",
      "source": [
        "zcdf = lambda x: norm(0,1).cdf(x)"
      ],
      "metadata": {
        "id": "WF20UwyhKIGe"
      },
      "execution_count": null,
      "outputs": []
    },
    {
      "cell_type": "code",
      "source": [
        "def p_value(z,tailed):\n",
        "  z=round(zcdf(z),10)\n",
        "  if tailed=='l':\n",
        "    return z\n",
        "  elif tailed == 'r':\n",
        "    return 1-z\n",
        "  elif tailed == 'd':\n",
        "    if z>0.5:\n",
        "      return 2*(1-z)\n",
        "    else:\n",
        "      return 2*z\n",
        "  else:\n",
        "    return np.nan"
      ],
      "metadata": {
        "id": "fEhxpbIvKJra"
      },
      "execution_count": null,
      "outputs": []
    },
    {
      "cell_type": "markdown",
      "source": [
        "### Hypothetical Statement - 1"
      ],
      "metadata": {
        "id": "8yEUt7NnHlrM"
      }
    },
    {
      "cell_type": "markdown",
      "source": [
        "#### 1. State Your research hypothesis as a null hypothesis and alternate hypothesis."
      ],
      "metadata": {
        "id": "tEA2Xm5dHt1r"
      }
    },
    {
      "cell_type": "markdown",
      "source": [
        "Lets formulate our hypothesis where we considerd that mean account balance of the population is 1000.\n",
        "* **Null Hypothesis H0** : ℳ > 1000   , Mean account balance is more than 1000\n",
        "* **Alternative Hypothesis H1** : ℳ <=1000  , Mean account balance is not more than 1000"
      ],
      "metadata": {
        "id": "HI9ZP0laH0D-"
      }
    },
    {
      "cell_type": "markdown",
      "source": [
        "#### 2. Perform an appropriate statistical test."
      ],
      "metadata": {
        "id": "I79__PHVH19G"
      }
    },
    {
      "cell_type": "code",
      "source": [
        "# Perform Statistical Test to obtain P-Value\n",
        "\n",
        "relevant_df = df['balance'].copy()\n",
        "hypothesis_mean = 1000\n",
        "size = 150\n",
        "\n",
        "relevant_df = relevant_df[-150:]\n",
        "std = np.std(relevant_df)\n",
        "sample_mean = np.mean(relevant_df)\n",
        "z = statistic.mean(hypothesis_mean,sample_mean,size,std)\n",
        "p = p_value(z,'l') #one tailed test\n",
        "print(conclusion(p))"
      ],
      "metadata": {
        "id": "oZrfquKtyian"
      },
      "execution_count": null,
      "outputs": []
    },
    {
      "cell_type": "markdown",
      "source": [
        "Hence we can say that mean salary of the sample is more than 1000."
      ],
      "metadata": {
        "id": "i41sfOu8Lq2r"
      }
    },
    {
      "cell_type": "markdown",
      "source": [
        "##### Which statistical test have you done to obtain P-Value?"
      ],
      "metadata": {
        "id": "Ou-I18pAyIpj"
      }
    },
    {
      "cell_type": "markdown",
      "source": [
        "* We have calculated z-score for mean when standard deviation was known to obtain p-value, We have conducted one tailed test in this case.\n",
        "\n"
      ],
      "metadata": {
        "id": "s2U0kk00ygSB"
      }
    },
    {
      "cell_type": "markdown",
      "source": [
        "##### Why did you choose the specific statistical test?"
      ],
      "metadata": {
        "id": "fF3858GYyt-u"
      }
    },
    {
      "cell_type": "markdown",
      "source": [
        "* Since we are taking enough sample we can choose Z score test instead of t- test also in this case standard deviation was known to us."
      ],
      "metadata": {
        "id": "HO4K0gP5y3B4"
      }
    },
    {
      "cell_type": "markdown",
      "source": [
        "### Hypothetical Statement - 2"
      ],
      "metadata": {
        "id": "4_0_7-oCpUZd"
      }
    },
    {
      "cell_type": "markdown",
      "source": [
        "#### 1. State Your research hypothesis as a null hypothesis and alternate hypothesis."
      ],
      "metadata": {
        "id": "hwyV_J3ipUZe"
      }
    },
    {
      "cell_type": "markdown",
      "source": [
        "Average call duration is more than 2000 seconds.\n",
        "\n",
        "Null Hypothesis H0 : ℳ = 300 , Mean duration is 300\n",
        "Alternative Hypothesis H1 : ℳ !=300 , Mean duration is not 300"
      ],
      "metadata": {
        "id": "FnpLGJ-4pUZe"
      }
    },
    {
      "cell_type": "markdown",
      "source": [
        "#### 2. Perform an appropriate statistical test."
      ],
      "metadata": {
        "id": "3yB-zSqbpUZe"
      }
    },
    {
      "cell_type": "code",
      "source": [
        "\n",
        "# Perform Statistical Test to obtain P-Value\n",
        "\n",
        "relevant_df = df['duration'].copy()\n",
        "hypothesis_mean = 300\n",
        "size = 150\n",
        "\n",
        "relevant_df = relevant_df[150:300]\n",
        "std = np.std(relevant_df)\n",
        "sample_mean = np.mean(relevant_df)\n",
        "z = statistic.mean(hypothesis_mean,sample_mean,size,std)\n",
        "p = p_value(z,'d') #both tailed test\n",
        "print(conclusion(p))"
      ],
      "metadata": {
        "id": "sWxdNTXNpUZe"
      },
      "execution_count": null,
      "outputs": []
    },
    {
      "cell_type": "markdown",
      "source": [
        "##### Which statistical test have you done to obtain P-Value?"
      ],
      "metadata": {
        "id": "dEUvejAfpUZe"
      }
    },
    {
      "cell_type": "markdown",
      "source": [
        "We have calculated z-score for mean when standard deviation was known to obtain p-value, We have conducted two tailed test in this case."
      ],
      "metadata": {
        "id": "oLDrPz7HpUZf"
      }
    },
    {
      "cell_type": "markdown",
      "source": [
        "##### Why did you choose the specific statistical test?"
      ],
      "metadata": {
        "id": "Fd15vwWVpUZf"
      }
    },
    {
      "cell_type": "markdown",
      "source": [
        "Since we are taking enough sample we can choose Z score test instead of t- test also in this case standard deviation was known to us."
      ],
      "metadata": {
        "id": "4xOGYyiBpUZf"
      }
    },
    {
      "cell_type": "markdown",
      "source": [
        "### Hypothetical Statement - 3"
      ],
      "metadata": {
        "id": "bn_IUdTipZyH"
      }
    },
    {
      "cell_type": "markdown",
      "source": [
        "#### 1. State Your research hypothesis as a null hypothesis and alternate hypothesis."
      ],
      "metadata": {
        "id": "49K5P_iCpZyH"
      }
    },
    {
      "cell_type": "markdown",
      "source": [
        "**Note: We have included our 3rd hypothesis test after one hot encoding section**"
      ],
      "metadata": {
        "id": "7gWI5rT9pZyH"
      }
    },
    {
      "cell_type": "markdown",
      "source": [
        "#### 2. Perform an appropriate statistical test."
      ],
      "metadata": {
        "id": "Nff-vKELpZyI"
      }
    },
    {
      "cell_type": "code",
      "source": [
        "# Perform Statistical Test to obtain P-Value"
      ],
      "metadata": {
        "id": "s6AnJQjtpZyI"
      },
      "execution_count": null,
      "outputs": []
    },
    {
      "cell_type": "markdown",
      "source": [
        "##### Which statistical test have you done to obtain P-Value?"
      ],
      "metadata": {
        "id": "kLW572S8pZyI"
      }
    },
    {
      "cell_type": "markdown",
      "source": [
        "Answer Here."
      ],
      "metadata": {
        "id": "ytWJ8v15pZyI"
      }
    },
    {
      "cell_type": "markdown",
      "source": [
        "##### Why did you choose the specific statistical test?"
      ],
      "metadata": {
        "id": "dWbDXHzopZyI"
      }
    },
    {
      "cell_type": "markdown",
      "source": [
        "Answer Here."
      ],
      "metadata": {
        "id": "M99G98V6pZyI"
      }
    },
    {
      "cell_type": "markdown",
      "source": [
        "## ***6. Feature Engineering & Data Pre-processing***"
      ],
      "metadata": {
        "id": "yLjJCtPM0KBk"
      }
    },
    {
      "cell_type": "markdown",
      "source": [
        "### 1. Handling Missing Values"
      ],
      "metadata": {
        "id": "xiyOF9F70UgQ"
      }
    },
    {
      "cell_type": "code",
      "source": [
        "# Handling Missing Values & Missing Value Imputation\n",
        "df.isnull().sum()"
      ],
      "metadata": {
        "id": "iRsAHk1K0fpS"
      },
      "execution_count": null,
      "outputs": []
    },
    {
      "cell_type": "markdown",
      "source": [
        "#### What all missing value imputation techniques have you used and why did you use those techniques?"
      ],
      "metadata": {
        "id": "7wuGOrhz0itI"
      }
    },
    {
      "cell_type": "markdown",
      "source": [
        "**There were some missing values in our dataset, which were filled with the text 'Unknown'. We had four such variables, all of which were categorical, so we first mapped 'Unknown' with np.nan and then did the necessary imputations for each column. These columns are described in detail below:**\n",
        "\n",
        "*  Job: There were 288 nan values in this column. So we substituted the same with the mode of the column i.e. \"Blue Collar jobs\" as it was a categorical variable.\n",
        "*  Education: There were 1857 nan values in this column, we substituted it with the mode i.e. \"Secondary Education\".\n",
        "* Contact: Since there are 13,020 nan values in this column and we are aware that cellular communication is currently the most preferred one, we made the assumption that the nan values might be replaced with cellular type values. And also the mode of the column is 'Cellular'.\n",
        "\n",
        "\n",
        "\n",
        "**This step was already done above in the DATA WRANGLING SECTION**"
      ],
      "metadata": {
        "id": "1ixusLtI0pqI"
      }
    },
    {
      "cell_type": "markdown",
      "source": [
        "### 2. Handling Outliers"
      ],
      "metadata": {
        "id": "id1riN9m0vUs"
      }
    },
    {
      "cell_type": "code",
      "source": [
        "# Handling Outliers & Outlier treatments\n",
        "from scipy import stats\n",
        "z = np.abs(stats.zscore(df[['age','balance','duration','campaign','previous']]))\n",
        "print(z)\n",
        "df=df[(z<3).all(axis=1)]\n",
        "df.shape"
      ],
      "metadata": {
        "id": "M6w2CzZf04JK"
      },
      "execution_count": null,
      "outputs": []
    },
    {
      "cell_type": "code",
      "source": [
        "# plotting box plot to check for the outliers in each feature\n",
        "nrows = len(continuous_list)\n",
        "fig, axes = plt.subplots(ncols=1,\n",
        "                         nrows=nrows,\n",
        "                         figsize=(6,4))\n",
        "plt.subplots_adjust(hspace=1)\n",
        "\n",
        "for i, var in enumerate(continuous_list):\n",
        "    sns.boxplot(df[var], orient='h', ax=axes[i],color= 'g')\n",
        "\n",
        "fig.suptitle('Box Plots Highlighting Outliers', fontweight='bold')\n",
        "plt.show()"
      ],
      "metadata": {
        "id": "rN4zc1toXACx"
      },
      "execution_count": null,
      "outputs": []
    },
    {
      "cell_type": "markdown",
      "source": [
        "##### What all outlier treatment techniques have you used and why did you use those techniques?"
      ],
      "metadata": {
        "id": "578E2V7j08f6"
      }
    },
    {
      "cell_type": "markdown",
      "source": [
        "* We have used Z score technique to detect and treat the outlier Z score is also called standard score. Z score = (x -mean) / std. deviation\n",
        "\n",
        "* If the z score of a data point is more than 3, it indicates that the data point is quite different from the other data points. Such a data point can be an outlier. So we have kept all the data points which are within 3 standard deviation and eliminated the others.\n",
        "\n"
      ],
      "metadata": {
        "id": "uGZz5OrT1HH-"
      }
    },
    {
      "cell_type": "markdown",
      "source": [
        "### 3. Categorical Encoding"
      ],
      "metadata": {
        "id": "89xtkJwZ18nB"
      }
    },
    {
      "cell_type": "code",
      "source": [
        "# Encode your categorical columns\n",
        "\n",
        "# one hot encoding for converting the binary categorical variables.\n",
        "df[['default','housing','loan','y']]=df[['default','housing','loan','y']].replace([\"yes\",\"no\"],[1,0])"
      ],
      "metadata": {
        "id": "21JmIYMG2hEo"
      },
      "execution_count": null,
      "outputs": []
    },
    {
      "cell_type": "code",
      "source": [
        "df.columns"
      ],
      "metadata": {
        "id": "a4cUm-eGdrED"
      },
      "execution_count": null,
      "outputs": []
    },
    {
      "cell_type": "code",
      "source": [
        "# one hot encoding in features like 'marital', 'education', 'contact.\n",
        "df = pd.get_dummies(df,columns=['job', 'marital', 'education', 'contact'])\n",
        "df.head()"
      ],
      "metadata": {
        "id": "DWOH4NgddKqh"
      },
      "execution_count": null,
      "outputs": []
    },
    {
      "cell_type": "markdown",
      "source": [
        "#### What all categorical encoding techniques have you used & why did you use those techniques?"
      ],
      "metadata": {
        "id": "67NQN5KX2AMe"
      }
    },
    {
      "cell_type": "markdown",
      "source": [
        "1.  BINARY ENCODING :- We have used One Hot encoding to convert the binary categorical variables into numeric form so that it can be used in fitting the model. We have replaced the Yes values with 1 and No values with 0.\n",
        "\n",
        "2. ONE HOT ENCODING :- One Hot Encoding means to encode or create additional features for all unique categorical values. So we used this method to create additional features known as dummy variables to fit all the data in the model."
      ],
      "metadata": {
        "id": "UDaue5h32n_G"
      }
    },
    {
      "cell_type": "markdown",
      "source": [
        "###Hypothetical Statement - 3"
      ],
      "metadata": {
        "id": "4lgE80Pi2QFp"
      }
    },
    {
      "cell_type": "markdown",
      "source": [
        "####1. State Your research hypothesis as a null hypothesis and alternate hypothesis."
      ],
      "metadata": {
        "id": "de_1jlf42cFf"
      }
    },
    {
      "cell_type": "markdown",
      "source": [
        "*  Null Hypothesis(H0) - Increasing age is an important factor for term deposit.\n",
        "*  Alternative Hypothesis(H1) - Age is not related to term deposit."
      ],
      "metadata": {
        "id": "ZzVRbK-02tr7"
      }
    },
    {
      "cell_type": "markdown",
      "source": [
        "####2. Perform an appropriate statistical test."
      ],
      "metadata": {
        "id": "M2rqtsDt2yVb"
      }
    },
    {
      "cell_type": "code",
      "source": [
        "# Perform Statistical Test to obtain P-Value\n",
        "from scipy.stats import chi2_contingency\n",
        "\n",
        "# defining the table\n",
        "data = [df['age'], df['y']]\n",
        "stat, p, dof, expected = chi2_contingency(data)\n",
        "\n",
        "# interpret p-value\n",
        "alpha = 0.05\n",
        "print(\"p value is \" + str(p))\n",
        "if p <= alpha:\n",
        "    print('Dependent (reject H0)')\n",
        "else:\n",
        "    print('Independent (failed to reject H0)')"
      ],
      "metadata": {
        "id": "yM6Mh1bL23MD"
      },
      "execution_count": null,
      "outputs": []
    },
    {
      "cell_type": "markdown",
      "source": [
        "####Which statistical test have you done to obtain P-Value?"
      ],
      "metadata": {
        "id": "Bhls76E33I0-"
      }
    },
    {
      "cell_type": "markdown",
      "source": [
        "**Chi Square Test**"
      ],
      "metadata": {
        "id": "_Puoece73Mbg"
      }
    },
    {
      "cell_type": "markdown",
      "source": [
        "####Why did you choose the specific statistical test?"
      ],
      "metadata": {
        "id": "c1ZwqUfY3Qyf"
      }
    },
    {
      "cell_type": "markdown",
      "source": [
        "**A chi-square test is used in statistics to test the independence of two events. Our aim was to know whether age is related to the response variable or not so we used this test here.**"
      ],
      "metadata": {
        "id": "h6Pqya233Vg-"
      }
    },
    {
      "cell_type": "markdown",
      "source": [
        "### 4. Textual Data Preprocessing\n",
        "(It's mandatory for textual dataset i.e., NLP, Sentiment Analysis, Text Clustering etc.)"
      ],
      "metadata": {
        "id": "Iwf50b-R2tYG"
      }
    },
    {
      "cell_type": "markdown",
      "source": [
        "#### 1. Expand Contraction"
      ],
      "metadata": {
        "id": "GMQiZwjn3iu7"
      }
    },
    {
      "cell_type": "code",
      "source": [
        "# Expand Contraction"
      ],
      "metadata": {
        "id": "PTouz10C3oNN"
      },
      "execution_count": null,
      "outputs": []
    },
    {
      "cell_type": "markdown",
      "source": [
        "#### 2. Lower Casing"
      ],
      "metadata": {
        "id": "WVIkgGqN3qsr"
      }
    },
    {
      "cell_type": "code",
      "source": [
        "# Lower Casing"
      ],
      "metadata": {
        "id": "88JnJ1jN3w7j"
      },
      "execution_count": null,
      "outputs": []
    },
    {
      "cell_type": "markdown",
      "source": [
        "#### 3. Removing Punctuations"
      ],
      "metadata": {
        "id": "XkPnILGE3zoT"
      }
    },
    {
      "cell_type": "code",
      "source": [
        "# Remove Punctuations"
      ],
      "metadata": {
        "id": "vqbBqNaA33c0"
      },
      "execution_count": null,
      "outputs": []
    },
    {
      "cell_type": "markdown",
      "source": [
        "#### 4. Removing URLs & Removing words and digits contain digits."
      ],
      "metadata": {
        "id": "Hlsf0x5436Go"
      }
    },
    {
      "cell_type": "code",
      "source": [
        "# Remove URLs & Remove words and digits contain digits"
      ],
      "metadata": {
        "id": "2sxKgKxu4Ip3"
      },
      "execution_count": null,
      "outputs": []
    },
    {
      "cell_type": "markdown",
      "source": [
        "#### 5. Removing Stopwords & Removing White spaces"
      ],
      "metadata": {
        "id": "mT9DMSJo4nBL"
      }
    },
    {
      "cell_type": "code",
      "source": [
        "# Remove Stopwords"
      ],
      "metadata": {
        "id": "T2LSJh154s8W"
      },
      "execution_count": null,
      "outputs": []
    },
    {
      "cell_type": "code",
      "source": [
        "# Remove White spaces"
      ],
      "metadata": {
        "id": "EgLJGffy4vm0"
      },
      "execution_count": null,
      "outputs": []
    },
    {
      "cell_type": "markdown",
      "source": [
        "#### 6. Rephrase Text"
      ],
      "metadata": {
        "id": "c49ITxTc407N"
      }
    },
    {
      "cell_type": "code",
      "source": [
        "# Rephrase Text"
      ],
      "metadata": {
        "id": "foqY80Qu48N2"
      },
      "execution_count": null,
      "outputs": []
    },
    {
      "cell_type": "markdown",
      "source": [
        "#### 7. Tokenization"
      ],
      "metadata": {
        "id": "OeJFEK0N496M"
      }
    },
    {
      "cell_type": "code",
      "source": [
        "# Tokenization"
      ],
      "metadata": {
        "id": "ijx1rUOS5CUU"
      },
      "execution_count": null,
      "outputs": []
    },
    {
      "cell_type": "markdown",
      "source": [
        "#### 8. Text Normalization"
      ],
      "metadata": {
        "id": "9ExmJH0g5HBk"
      }
    },
    {
      "cell_type": "code",
      "source": [
        "# Normalizing Text (i.e., Stemming, Lemmatization etc.)"
      ],
      "metadata": {
        "id": "AIJ1a-Zc5PY8"
      },
      "execution_count": null,
      "outputs": []
    },
    {
      "cell_type": "markdown",
      "source": [
        "##### Which text normalization technique have you used and why?"
      ],
      "metadata": {
        "id": "cJNqERVU536h"
      }
    },
    {
      "cell_type": "markdown",
      "source": [
        "Answer Here."
      ],
      "metadata": {
        "id": "Z9jKVxE06BC1"
      }
    },
    {
      "cell_type": "markdown",
      "source": [
        "#### 9. Part of speech tagging"
      ],
      "metadata": {
        "id": "k5UmGsbsOxih"
      }
    },
    {
      "cell_type": "code",
      "source": [
        "# POS Taging"
      ],
      "metadata": {
        "id": "btT3ZJBAO6Ik"
      },
      "execution_count": null,
      "outputs": []
    },
    {
      "cell_type": "markdown",
      "source": [
        "#### 10. Text Vectorization"
      ],
      "metadata": {
        "id": "T0VqWOYE6DLQ"
      }
    },
    {
      "cell_type": "code",
      "source": [
        "# Vectorizing Text"
      ],
      "metadata": {
        "id": "yBRtdhth6JDE"
      },
      "execution_count": null,
      "outputs": []
    },
    {
      "cell_type": "markdown",
      "source": [
        "##### Which text vectorization technique have you used and why?"
      ],
      "metadata": {
        "id": "qBMux9mC6MCf"
      }
    },
    {
      "cell_type": "markdown",
      "source": [
        "Answer Here."
      ],
      "metadata": {
        "id": "su2EnbCh6UKQ"
      }
    },
    {
      "cell_type": "markdown",
      "source": [
        "### 4. Feature Manipulation & Selection"
      ],
      "metadata": {
        "id": "-oLEiFgy-5Pf"
      }
    },
    {
      "cell_type": "markdown",
      "source": [
        "#### 1. Feature Manipulation"
      ],
      "metadata": {
        "id": "C74aWNz2AliB"
      }
    },
    {
      "cell_type": "code",
      "source": [
        "# Manipulate Features to minimize feature correlation and create new features\n",
        "#dropping duration column from the dataset\n",
        "df1 = df.drop(columns=['duration'], axis=1)\n",
        ""
      ],
      "metadata": {
        "id": "h1qC4yhBApWC"
      },
      "execution_count": null,
      "outputs": []
    },
    {
      "cell_type": "markdown",
      "source": [
        "*  As stated in the notes for the dataset, the \"duration\" variable is not a good predictor of a potential \"yes\" because a 0 is an automatic \"no\" and time spent before a call cannot be known. We will therefore first drop this from our data set.\n",
        "\n"
      ],
      "metadata": {
        "id": "N9Vt-9lb4ZjN"
      }
    },
    {
      "cell_type": "markdown",
      "source": [
        "#### 2. Feature Selection"
      ],
      "metadata": {
        "id": "2DejudWSA-a0"
      }
    },
    {
      "cell_type": "code",
      "source": [
        "# Select your features wisely to avoid overfitting\n",
        "# contain all  independent variable\n",
        "x=df1.drop(['y','month'],axis=1)\n",
        "\n",
        "# dependent variable\n",
        "y=df1['y']"
      ],
      "metadata": {
        "id": "YLhe8UmaBCEE"
      },
      "execution_count": null,
      "outputs": []
    },
    {
      "cell_type": "code",
      "source": [
        "categorical_cols = x.select_dtypes(include='object').columns\n",
        "x_encoded = pd.get_dummies(x, columns=categorical_cols)\n",
        "\n",
        "importance = mutual_info_classif(x_encoded, y)\n",
        "feat_importances = pd.Series(importance, x_encoded.columns,)\n",
        "feat_importances.plot(kind='barh',color= 'blue')\n",
        "plt.title(\"Feature importance based on Mutual info classifier/information gain\")\n",
        "plt.show()"
      ],
      "metadata": {
        "id": "P6mpSFg17snU"
      },
      "execution_count": null,
      "outputs": []
    },
    {
      "cell_type": "markdown",
      "source": [
        "##### What all feature selection methods have you used  and why?"
      ],
      "metadata": {
        "id": "pEMng2IbBLp7"
      }
    },
    {
      "cell_type": "markdown",
      "source": [
        "* Information gain calculates the reduction in entropy from the transformation of a dataset.\n",
        "* It can be used for feature selection by evaluating the Information gain of each variable in the context of the target variable.\n",
        "\n"
      ],
      "metadata": {
        "id": "rb2Lh6Z8BgGs"
      }
    },
    {
      "cell_type": "markdown",
      "source": [
        "##### Which all features you found important and why?"
      ],
      "metadata": {
        "id": "rAdphbQ9Bhjc"
      }
    },
    {
      "cell_type": "markdown",
      "source": [
        "* As per technique used above we can say that all the features that we have included has significant importance . So we are keeping all of them.\n",
        "\n"
      ],
      "metadata": {
        "id": "fGgaEstsBnaf"
      }
    },
    {
      "cell_type": "markdown",
      "source": [
        "### 5. Data Transformation"
      ],
      "metadata": {
        "id": "TNVZ9zx19K6k"
      }
    },
    {
      "cell_type": "markdown",
      "source": [
        "#### Do you think that your data needs to be transformed? If yes, which transformation have you used. Explain Why?"
      ],
      "metadata": {
        "id": "nqoHp30x9hH9"
      }
    },
    {
      "cell_type": "markdown",
      "source": [
        "* Since we have treated the outliers above and in the next section we are going to scale the data using standard scaler where we will tansform the numerical features in the scale of 0 to 1. So we do not need data transformation now."
      ],
      "metadata": {
        "id": "eDGlCjN4-ByX"
      }
    },
    {
      "cell_type": "markdown",
      "source": [
        "### 6. Data Scaling"
      ],
      "metadata": {
        "id": "rMDnDkt2B6du"
      }
    },
    {
      "cell_type": "code",
      "source": [
        "# Scaling your data\n",
        "scaler = StandardScaler()\n",
        "num_cols = ['age', 'balance', 'day', 'campaign', 'previous']\n",
        "df1[num_cols] = scaler.fit_transform(df1[num_cols])\n",
        "\n",
        "df1.head()"
      ],
      "metadata": {
        "id": "dL9LWpySC6x_"
      },
      "execution_count": null,
      "outputs": []
    },
    {
      "cell_type": "markdown",
      "source": [
        "##### Which method have you used to scale you data and why?"
      ],
      "metadata": {
        "id": "yiiVWRdJDDil"
      }
    },
    {
      "cell_type": "markdown",
      "source": [
        "We scaled our numerical data using `StandardScaler()` function from sklearn we can scale each our columns that contains numerical data using the formula below :-\n",
        "\n",
        "<div align=\"center\">$Z = \\frac{X - U}{S}$</div>\n",
        "\n",
        "Where :-\n",
        "\n",
        "$Z:$ scaled value\n",
        "\n",
        "$X:$ original value\n",
        "\n",
        "$U:$ mean of the data\n",
        "\n",
        "$S:$ standard deviation of the data"
      ],
      "metadata": {
        "id": "XtEGzLvJ-6bt"
      }
    },
    {
      "cell_type": "markdown",
      "source": [
        "### 7. Dimesionality Reduction"
      ],
      "metadata": {
        "id": "1UUpS68QDMuG"
      }
    },
    {
      "cell_type": "markdown",
      "source": [
        "##### Do you think that dimensionality reduction is needed? Explain Why?"
      ],
      "metadata": {
        "id": "kexQrXU-DjzY"
      }
    },
    {
      "cell_type": "markdown",
      "source": [
        "* No, here we do not need Dimensionality Reduction as we have seen above that all the features are significant enough and there are only 30 columns in our dataset.."
      ],
      "metadata": {
        "id": "GGRlBsSGDtTQ"
      }
    },
    {
      "cell_type": "code",
      "source": [
        "# DImensionality Reduction (If needed)"
      ],
      "metadata": {
        "id": "kQfvxBBHDvCa"
      },
      "execution_count": null,
      "outputs": []
    },
    {
      "cell_type": "markdown",
      "source": [
        "##### Which dimensionality reduction technique have you used and why? (If dimensionality reduction done on dataset.)"
      ],
      "metadata": {
        "id": "T5CmagL3EC8N"
      }
    },
    {
      "cell_type": "markdown",
      "source": [
        "Answer Here."
      ],
      "metadata": {
        "id": "ZKr75IDuEM7t"
      }
    },
    {
      "cell_type": "markdown",
      "source": [
        "### 8. Data Splitting"
      ],
      "metadata": {
        "id": "BhH2vgX9EjGr"
      }
    },
    {
      "cell_type": "code",
      "source": [
        "# Split your data to train and test. Choose Splitting ratio wisely.\n",
        "# Select Features\n",
        "feature = df1.drop(['y','month'], axis=1)\n",
        "\n",
        "# Select Target\n",
        "target = df1['y']\n",
        "\n",
        "# Set Training and Testing Data\n",
        "\n",
        "X_train, X_test, y_train, y_test = train_test_split(feature , target,\n",
        "                                                    shuffle = True,\n",
        "                                                    test_size=0.2,\n",
        "                                                    random_state=1)\n",
        "\n",
        "# Show the Training and Testing Data\n",
        "print('Shape of training feature:', X_train.shape)\n",
        "print('Shape of testing feature:', X_test.shape)\n",
        "print('Shape of training label:', y_train.shape)\n",
        "print('Shape of training label:', y_test.shape)\n",
        "\n",
        ""
      ],
      "metadata": {
        "id": "0CTyd2UwEyNM"
      },
      "execution_count": null,
      "outputs": []
    },
    {
      "cell_type": "markdown",
      "source": [
        "##### What data splitting ratio have you used and why?"
      ],
      "metadata": {
        "id": "qjKvONjwE8ra"
      }
    },
    {
      "cell_type": "markdown",
      "source": [
        "* For the train-test split, we use  80:20 ratio.80% of our data as training and 20% as testing.\n",
        "*  We can see we have 33435 data for training and 8359 testing which is a fair split to start with as we have kept a good amount of data for training our model."
      ],
      "metadata": {
        "id": "Y2lJ8cobFDb_"
      }
    },
    {
      "cell_type": "markdown",
      "source": [
        "### 9. Handling Imbalanced Dataset"
      ],
      "metadata": {
        "id": "P1XJ9OREExlT"
      }
    },
    {
      "cell_type": "code",
      "source": [
        "# Previous original class distribution\n",
        "print('Original class distribution: \\n')\n",
        "print(target.value_counts())"
      ],
      "metadata": {
        "id": "rKjN4G-hBeuX"
      },
      "execution_count": null,
      "outputs": []
    },
    {
      "cell_type": "code",
      "source": [
        "#plotting bar graph to vizualize the class imbalance\n",
        "df1.y.value_counts().plot(kind=\"bar\")\n",
        "plt.show()"
      ],
      "metadata": {
        "id": "Z3PY6y9NBgor"
      },
      "execution_count": null,
      "outputs": []
    },
    {
      "cell_type": "markdown",
      "source": [
        "##### Do you think the dataset is imbalanced? Explain Why."
      ],
      "metadata": {
        "id": "VFOzZv6IFROw"
      }
    },
    {
      "cell_type": "markdown",
      "source": [
        "* We can clearly detect a class imbalance, as the count of 0 labels is 37501 and the count of 1 labels is 4293. In our scenario, a class imbalance is to be expected because the dataset we are working on is a prediction of a bank's marketing effectiveness. It is evident that the number of people opting for a term deposit will be lower than the number of people who do not opt for it out of the total number of target customers contacted."
      ],
      "metadata": {
        "id": "GeKDIv7pFgcC"
      }
    },
    {
      "cell_type": "code",
      "source": [
        "# Handling Imbalanced Dataset (If needed)\n",
        "#importing SMOTE for handling class imbalance\n",
        "\n",
        "sm = SMOTE(random_state=0)\n",
        "X_res, y_res = sm.fit_resample(X_train, y_train)\n",
        "# Preview synthetic sample class distribution\n",
        "print('Synthetic sample class distribution: \\n')\n",
        "print(pd.Series(y_res).value_counts())\n",
        ""
      ],
      "metadata": {
        "id": "nQsRhhZLFiDs"
      },
      "execution_count": null,
      "outputs": []
    },
    {
      "cell_type": "markdown",
      "source": [
        "##### What technique did you use to handle the imbalance dataset and why? (If needed to be balanced)"
      ],
      "metadata": {
        "id": "TIqpNgepFxVj"
      }
    },
    {
      "cell_type": "markdown",
      "source": [
        "**SMOTE - (Synthetic Minority Oversampling Technique)**\n",
        "\n",
        "* We have used SMOTE Technique. This technique generates synthetic data for the minority class. Here we can see that our minority class is label 1. It works by randomly picking a point from the minority class and computing the k-nearest neighbors for this point. The synthetic points are added between the chosen point and its neighbors. We have used this technique because this method avoids the generation of noise and effectively overcomes imbalances between and within classes."
      ],
      "metadata": {
        "id": "qbet1HwdGDTz"
      }
    },
    {
      "cell_type": "markdown",
      "source": [
        "## ***7. ML Model Implementation***"
      ],
      "metadata": {
        "id": "VfCC591jGiD4"
      }
    },
    {
      "cell_type": "markdown",
      "source": [
        "**After making sure our data is good and ready we can continue building our model. In this notebook, we will try to build 4 to 5 different models with different algorithms. In this step we will create a baseline model for each algorithm using the default parameters set by sklearn and after building all 5 of our models we will compare them to see which works best for our case.**\n",
        "\n",
        "####**To evaluate our model we will use the confusion matrix as our base for the evaluation.**\n",
        "\n",
        "\n",
        "<div align='center'><img src='https://miro.medium.com/max/2102/1*fxiTNIgOyvAombPJx5KGeA.png' height='250'></div>\n",
        "where: TP = True Positive; FP = False Positive; TN = True Negative; FN = False Negative.\n",
        "\n",
        "We will use 6 metrics below to evaluate models:\n",
        "\n",
        "1. **Accuracy:** the proportion of true results among the total number of cases examined.\n",
        "<div align='center'>$Accuracy = \\frac{TP+TN}{TP+TN+FP+FN}$</div>\n",
        "2. **Precision:** used to calculate how much proportion of all data that was predicted positive *was* actually positive.\n",
        "<div align='center'>$Precision = \\frac{TP}{TP+FP}$</div>\n",
        "3. **Recall:** used to calculate how much proportion of actual positives is correctly classified.\n",
        "<div align='center'>$Recall = \\frac{TP}{TP+FN}$</div>\n",
        "4. **F1 score:** a number between 0 and 1 and is the harmonic mean of precision and recall.\n",
        "<div align='center'>$F1 = \\frac{2TP}{2TP+FP+FN}$</div>\n",
        "5. **Cohen Kappa Score:** Cohen's kappa measures the agreement between two raters who each classify N items into C mutually exclusive categories.\n",
        "<div align='center'>$\\kappa = \\frac{p_o-p_e}{1-p_e}$</div>\n",
        "    where $p_o$ is the empirical probability of agreement on the label assigned to any sample (the observed agreement ratio), and $p_e$ is the expected agreement when both annotators assign labels randomly. $p_e$ is estimated using a per-annotator empirical prior over the class labels.\n",
        "6. **Area Under Curve (AUC):** indicates how well the probabilities from the positive classes are separated from the negative classes\n",
        "\n",
        "Below we will define a helper function to evaluate each trained model and with the metrics mentioned above and save the score to a variable."
      ],
      "metadata": {
        "id": "jEY8VFrGe2e-"
      }
    },
    {
      "cell_type": "code",
      "source": [
        "#defining a function for model and defining the formulae for all the evaluation metric used\n",
        "def evaluate_model(model, x_test, y_test):\n",
        "    from sklearn import metrics\n",
        "\n",
        "    # Predict Test Data\n",
        "    y_pred = model.predict(x_test)\n",
        "\n",
        "    # Calculate accuracy, precision, recall, f1-score, and kappa score\n",
        "    acc = metrics.accuracy_score(y_test, y_pred)\n",
        "    prec = metrics.precision_score(y_test, y_pred)\n",
        "    rec = metrics.recall_score(y_test, y_pred)\n",
        "    f1 = metrics.f1_score(y_test, y_pred)\n",
        "    kappa = metrics.cohen_kappa_score(y_test, y_pred)\n",
        "\n",
        "    # Calculate area under curve (AUC)\n",
        "    y_pred_proba = model.predict_proba(x_test)[::,1]\n",
        "    fpr, tpr, _ = metrics.roc_curve(y_test, y_pred_proba)\n",
        "    auc = metrics.roc_auc_score(y_test, y_pred_proba)\n",
        "\n",
        "    # Display confussion matrix\n",
        "    cm = metrics.confusion_matrix(y_test, y_pred)\n",
        "\n",
        "    return {'acc': acc, 'prec': prec, 'rec': rec, 'f1': f1, 'kappa': kappa,\n",
        "            'fpr': fpr, 'tpr': tpr, 'auc': auc, 'cm': cm}\n",
        ""
      ],
      "metadata": {
        "id": "__L3Bhu3rnUc"
      },
      "execution_count": null,
      "outputs": []
    },
    {
      "cell_type": "markdown",
      "source": [
        "\n",
        "\n",
        "\n",
        "### ML Model - 1 -<font color= \"magenta\">  DECISION TREE"
      ],
      "metadata": {
        "id": "OB4l2ZhMeS1U"
      }
    },
    {
      "cell_type": "markdown",
      "source": [
        "Let’s look at the basic terminology used to study decision trees:\n",
        "\n"
      ],
      "metadata": {
        "id": "W-ARnuzwpynz"
      }
    },
    {
      "cell_type": "markdown",
      "source": [
        "![terminology.png](data:image/png;base64,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)"
      ],
      "metadata": {
        "id": "YK1_75GypfZd"
      }
    },
    {
      "cell_type": "markdown",
      "source": [
        "<b>Root Node:</b> It represents entire population or sample and this further gets divided into two sets.\n",
        "\n",
        "<b>Splitting:</b> It is a process of dividing a node into two sub-nodes.\n",
        "\n",
        "<b>Decision Node:</b> When a sub-node splits into further sub-nodes, then it is called decision node.\n",
        "\n",
        "<b> Leaf/ Terminal Node:</b> Nodes do not split is called leaf or terminal node.\n",
        "\n",
        "<b> Pruning:</b> When we remove sub-nodes of a decision node, this process is called pruning. You can say opposite process of splitting.\n",
        "\n",
        "<b>Branch / Sub-Tree:</b> A sub section of entire tree is called branch or sub-tree.\n",
        "\n",
        "<b>Parent and Child Node:</b> A node, which is divided into sub-nodes is called parent node of sub-nodes where as sub-nodes are the child of parent node.\n"
      ],
      "metadata": {
        "id": "1pIhbNohp38a"
      }
    },
    {
      "cell_type": "code",
      "source": [
        "# ML Model - 1 Implementation\n",
        "# Building Decision Tree model\n",
        "\n",
        "# Fit the Algorithm\n",
        "dtc = tree.DecisionTreeClassifier(random_state=0)\n",
        "dtc.fit(X_res, y_res)\n",
        "\n",
        "# Predict on the model\n",
        "# Evaluate Model\n",
        "dtc_eval = evaluate_model(dtc, X_test, y_test)\n",
        "# Print result\n",
        "print('Accuracy:', dtc_eval['acc'])\n",
        "print('Precision:', dtc_eval['prec'])\n",
        "print('Recall:', dtc_eval['rec'])\n",
        "print('F1 Score:', dtc_eval['f1'])\n",
        "print('Cohens Kappa Score:', dtc_eval['kappa'])\n",
        "print('Area Under Curve:', dtc_eval['auc'])\n",
        "print('Confusion Matrix:\\n', dtc_eval['cm'])\n"
      ],
      "metadata": {
        "id": "7ebyywQieS1U"
      },
      "execution_count": null,
      "outputs": []
    },
    {
      "cell_type": "markdown",
      "source": [
        "#### 1. Explain the ML Model used and it's performance using Evaluation metric Score Chart."
      ],
      "metadata": {
        "id": "ArJBuiUVfxKd"
      }
    },
    {
      "cell_type": "markdown",
      "source": [
        "**A decision tree is a type of machine learning algorithm that uses a tree like model to make predictions based on the relationship between the features in a dataset. It works by dividing the data into smaller and smaller groups based on the values of the features, until it reaches a decision about the target variable for each group. Based on our observations, model accuracy is good (80%), but recall, precision, and other metrics are poor. We might conclude that this model is not a good fit for our dataset and that we should experiment with different models.**\n",
        "\n"
      ],
      "metadata": {
        "id": "qMj8bU-AzY0U"
      }
    },
    {
      "cell_type": "code",
      "source": [
        "# Visualizing evaluation Metric Score chart\n",
        "\n",
        "fig, (ax1, ax2) = plt.subplots(1, 2)\n",
        "fig.suptitle('Vizualising evaluation metrics', fontsize=16, fontweight='bold')\n",
        "fig.set_figheight(5)\n",
        "fig.set_figwidth(10)\n",
        "fig.set_facecolor('white')\n",
        "barWidth = 0.2\n",
        "\n",
        "dtc_score = [dtc_eval['acc'], dtc_eval['prec'], dtc_eval['rec'], dtc_eval['f1'], dtc_eval['kappa']]\n",
        "\n",
        "# Set position of bar on X axis\n",
        "r1 = np.arange(len(dtc_score))\n",
        "ax1.bar(r1, dtc_score, width=barWidth, edgecolor='white', label='Decision Tree', color=['orange', 'red', 'green', 'blue', 'cyan'])\n",
        "\n",
        "# Configure x and y axis\n",
        "ax1.set_xlabel('Metrics', fontweight='bold')\n",
        "labels = ['Accuracy', 'Precision', 'Recall', 'F1', 'Kappa']\n",
        "ax1.set_xticks([r + (barWidth * 1.5) for r in range(len(dtc_score))], )\n",
        "ax1.set_xticklabels(labels)\n",
        "ax1.set_ylabel('Score', fontweight='bold')\n",
        "ax1.set_ylim(0, 1)\n",
        "\n",
        "# Create legend & title\n",
        "ax1.set_title('Evaluation Metrics', fontsize=14, fontweight='bold')\n",
        "ax1.legend()\n",
        "\n",
        "# Second plot\n",
        "ax2.plot(dtc_eval['fpr'], dtc_eval['tpr'], label='Decision Tree, auc = {:0.5f}'.format(dtc_eval['auc']))\n",
        "\n",
        "# Configure x and y axis\n",
        "ax2.set_xlabel('False Positive Rate', fontweight='bold')\n",
        "ax2.set_ylabel('True Positive Rate', fontweight='bold')\n",
        "\n",
        "# Create legend & title\n",
        "ax2.set_title('ROC Curve', fontsize=14, fontweight='bold')\n",
        "ax2.legend(loc=4)\n",
        "\n",
        "plt.show()"
      ],
      "metadata": {
        "id": "rqD5ZohzfxKe"
      },
      "execution_count": null,
      "outputs": []
    },
    {
      "cell_type": "code",
      "source": [
        "# Get the confusion matrix for decision tree classifier for both actual and predicted values\n",
        "labels = ['TD Accepted','TD Rejected']\n",
        "f, ax = plt.subplots(figsize = (8, 4))\n",
        "sns.heatmap(dtc_eval['cm'], annot=True, ax = ax)\n",
        "#annot=True to annotate cells\n",
        "# labels, title and ticks\n",
        "ax.set_xlabel('Predicted labels')\n",
        "ax.set_ylabel('True labels')\n",
        "ax.set_title('Confusion Matrix')\n",
        "ax.xaxis.set_ticklabels(labels)\n",
        "ax.yaxis.set_ticklabels(labels)"
      ],
      "metadata": {
        "id": "-eEmtYWX4YpQ"
      },
      "execution_count": null,
      "outputs": []
    },
    {
      "cell_type": "markdown",
      "source": [
        "#### 2. Cross- Validation & Hyperparameter Tuning"
      ],
      "metadata": {
        "id": "4qY1EAkEfxKe"
      }
    },
    {
      "cell_type": "code",
      "source": [
        "# ML Model - 1 Implementation with hyperparameter optimization techniques (i.e., GridSearch CV, RandomSearch CV, Bayesian Optimization etc.)\n",
        "\n",
        "# Create the parameter grid based on the results of random search\n",
        "param_grid = {'max_depth': [25,26,27,28,29,30,31,32,35,37,40,50, 80, 100]}\n",
        "\n",
        "# Create a base model\n",
        "dtc_grid = tree.DecisionTreeClassifier(random_state=0)\n",
        "\n",
        "\n",
        "# Initiate the grid search model\n",
        "grid_search = GridSearchCV(estimator=dtc_grid, param_grid=param_grid, scoring='roc_auc',\n",
        "                           cv=5, n_jobs=-1, verbose=2)\n",
        "\n",
        "# Fit the grid search to the data\n",
        "grid_search.fit(X_res, y_res)\n",
        "\n",
        "grid_search.best_params_"
      ],
      "metadata": {
        "id": "Dy61ujd6fxKe"
      },
      "execution_count": null,
      "outputs": []
    },
    {
      "cell_type": "code",
      "source": [
        "# Building Decision Tree model\n",
        "dtc = tree.DecisionTreeClassifier(random_state=0,max_depth=26)\n",
        "dtc.fit(X_res, y_res)\n",
        "# Evaluate Model\n",
        "dtc_eval = evaluate_model(dtc, X_test, y_test)\n",
        "# Print result\n",
        "print('Accuracy:', dtc_eval['acc'])\n",
        "print('Precision:', dtc_eval['prec'])\n",
        "print('Recall:', dtc_eval['rec'])\n",
        "print('F1 Score:', dtc_eval['f1'])\n",
        "print('Cohens Kappa Score:', dtc_eval['kappa'])\n",
        "print('Area Under Curve:', dtc_eval['auc'])\n",
        "print('Confusion Matrix:\\n', dtc_eval['cm'])"
      ],
      "metadata": {
        "id": "356e3y9LG6pY"
      },
      "execution_count": null,
      "outputs": []
    },
    {
      "cell_type": "markdown",
      "source": [
        "##### Which hyperparameter optimization technique have you used and why?"
      ],
      "metadata": {
        "id": "PiV4Ypx8fxKe"
      }
    },
    {
      "cell_type": "markdown",
      "source": [
        "* We have used Grid Search CV Hyperparameter optimization technique and tried to find the best max depth value to optimize our model. We have also used Cross validation with CV = 5"
      ],
      "metadata": {
        "id": "negyGRa7fxKf"
      }
    },
    {
      "cell_type": "markdown",
      "source": [
        "##### Have you seen any improvement? Note down the improvement with updates Evaluation metric Score Chart."
      ],
      "metadata": {
        "id": "TfvqoZmBfxKf"
      }
    },
    {
      "cell_type": "markdown",
      "source": [
        "Accuracy Before:80.38% || Accuracy After: 78.87%\n",
        "\n",
        "Precision Before: 19.98% || Precision After: 20.70%\n",
        "\n",
        "Recall Before: 28.32% || Recall After: 35%\n",
        "\n",
        "F1 Score Before: 23.43%|| F1 Score After:26.04%\n",
        "\n",
        "Cohens Kappa Score Before: 12.56%|| Cohens Kappa Score After:14.66%\n",
        "\n",
        "Area Under Curve Before: 57.44% || Area Under Curve After: 59.81%\n",
        "\n",
        "We can see that after tuning the hyperparameter max depth there is an increment of 7% in recall value , area under curve also increased by two percent.\n",
        "\n",
        "\n",
        "In this model we have high accuracy value but recall and precision value is not compeminting with the accuracy . In our case we need as many as true positives as possible because anyone who is interested in term deposit should not be left out. So that makes recall is the most important metrics for business point of view. So decision tree algorithem may not fulfill our need in that respect."
      ],
      "metadata": {
        "id": "OaLui8CcfxKf"
      }
    },
    {
      "cell_type": "markdown",
      "source": [
        "### ML Model - 2<font color= \"magenta\">  LOGISTIC REGRESSION"
      ],
      "metadata": {
        "id": "dJ2tPlVmpsJ0"
      }
    },
    {
      "cell_type": "markdown",
      "source": [
        "![image.png](data:image/png;base64,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)"
      ],
      "metadata": {
        "id": "f8T1OXSRuuUu"
      }
    },
    {
      "cell_type": "markdown",
      "source": [
        "*  **Logistic regression is a classification algorithm that predicts the probability of an outcome that can only have two values (i.e. a dichotomy). A logistic regression produces a logistic curve, which is limited to values between 0 and 1. Logistic regression models the probability that each input belongs to a particular category.**\n",
        "*  **Logistic regression is an excellent tool to know for classification problems, which are problems where the output value that we wish to predict only takes on only a small number of discrete values. Here we'll focus on the binary classification problem, where the output can take on only two distinct classes.**"
      ],
      "metadata": {
        "id": "0gjjB0ltvLfJ"
      }
    },
    {
      "cell_type": "markdown",
      "source": [
        "#### 1. Explain the ML Model used and it's performance using Evaluation metric Score Chart."
      ],
      "metadata": {
        "id": "JWYfwnehpsJ1"
      }
    },
    {
      "cell_type": "code",
      "source": [
        "# Visualizing evaluation Metric Score chart\n",
        "clf = LogisticRegression(fit_intercept=True, max_iter=10000)\n",
        "clf.fit(X_res, y_res)\n",
        "# Fit the Algorithm\n",
        "# Predict on the model\n",
        "# Evaluate Model\n",
        "clf_eval = evaluate_model(clf, X_res, y_res)\n",
        "# Print result\n",
        "print('Accuracy:', clf_eval['acc'])\n",
        "print('Precision:', clf_eval['prec'])\n",
        "print('Recall:', clf_eval['rec'])\n",
        "print('F1 Score:', clf_eval['f1'])\n",
        "print('Cohens Kappa Score:', clf_eval['kappa'])\n",
        "print('Area Under Curve:', clf_eval['auc'])\n",
        "print('Confusion Matrix:\\n', clf_eval['cm'])"
      ],
      "metadata": {
        "id": "yEl-hgQWpsJ1"
      },
      "execution_count": null,
      "outputs": []
    },
    {
      "cell_type": "code",
      "source": [
        "#coefficient of the training data\n",
        "clf.coef_"
      ],
      "metadata": {
        "id": "5NV7tZpRELhd"
      },
      "execution_count": null,
      "outputs": []
    },
    {
      "cell_type": "code",
      "source": [
        "#interscept of the training data\n",
        "clf.intercept_"
      ],
      "metadata": {
        "id": "H2778YrBENm0"
      },
      "execution_count": null,
      "outputs": []
    },
    {
      "cell_type": "markdown",
      "source": [
        "Logistic regression is a supervised learning classification algorithm used to predict the probability of a target variable. The nature of target or dependent variable is dichotomous, which means there would be only two possible classes.\n",
        "\n",
        "In simple words, the dependent variable is binary in nature having data coded as either 1 (stands for success/yes) or 0 (stands for failure/no).\n",
        "\n",
        "Mathematically, a logistic regression model predicts P(Y=1) as a function of X. It is one of the simplest ML algorithms that can be used for various classification problems such as spam detection, Diabetes prediction, cancer detection etc.\n",
        "\n",
        "Logistic Regression may be a suitable fit in our scenario because recall and precision are 74% and 76%, respectively. The accuracy is just 75% in this case, but we want maximum recall to forecast as many true positives as possible so that we don't miss out on any customers who actually want to make a deposit."
      ],
      "metadata": {
        "id": "dz310yBzKI6z"
      }
    },
    {
      "cell_type": "code",
      "source": [
        "# Visualizing evaluation Metric Score chart\n",
        "fig, (ax1, ax2) = plt.subplots(1, 2)\n",
        "fig.suptitle('Vizualising evaluation metrics', fontsize=16, fontweight='bold')\n",
        "fig.set_figheight(6)\n",
        "fig.set_figwidth(10)\n",
        "fig.set_facecolor('white')\n",
        "barWidth = 0.2\n",
        "\n",
        "clf_score = [clf_eval['acc'], clf_eval['prec'], clf_eval['rec'], clf_eval['f1'], clf_eval['kappa']]\n",
        "\n",
        "## Set position of bar on X axis\n",
        "r1 = np.arange(len(clf_score))\n",
        "ax1.bar(r1, clf_score, width=barWidth, edgecolor='white', label='Logistic Regression',color=['orange', 'red', 'green', 'blue', 'cyan'])\n",
        "\n",
        "## Configure x and y axis\n",
        "ax1.set_xlabel('Metrics', fontweight='bold')\n",
        "labels = ['Accuracy', 'Precision', 'Recall', 'F1', 'Kappa']\n",
        "ax1.set_xticks([r + (barWidth * 1.5) for r in range(len(clf_score))], )\n",
        "ax1.set_xticklabels(labels)\n",
        "ax1.set_ylabel('Score', fontweight='bold')\n",
        "ax1.set_ylim(0, 1)\n",
        "\n",
        "## Create legend & title\n",
        "ax1.set_title('Evaluation Metrics', fontsize=14, fontweight='bold')\n",
        "ax1.legend()\n",
        "\n",
        "# Second plot\n",
        "ax2.plot(clf_eval['fpr'], clf_eval['tpr'], label='Logistic Regression, auc = {:0.5f}'.format(clf_eval['auc']))\n",
        "\n",
        "## Configure x and y axis\n",
        "ax2.set_xlabel('False Positive Rate', fontweight='bold')\n",
        "ax2.set_ylabel('True Positive Rate', fontweight='bold')\n",
        "\n",
        "## Create legend & title\n",
        "ax2.set_title('ROC Curve', fontsize=14, fontweight='bold')\n",
        "ax2.legend(loc=4)\n",
        "\n",
        "plt.show()"
      ],
      "metadata": {
        "id": "bbuE_WzWKHiV"
      },
      "execution_count": null,
      "outputs": []
    },
    {
      "cell_type": "code",
      "source": [
        "# Get the confusion matrix for Logistic Regression for both actual and predicted values\n",
        "labels = ['TD Accepted','TD Rejected']\n",
        "f, ax = plt.subplots(figsize = (8, 6))\n",
        "sns.heatmap(clf_eval['cm'], annot=True, ax = ax) #annot=True to annotate cells\n",
        "# labels, title and ticks\n",
        "ax.set_xlabel('Predicted labels')\n",
        "ax.set_ylabel('True labels')\n",
        "ax.set_title('Confusion Matrix')\n",
        "ax.xaxis.set_ticklabels(labels)\n",
        "ax.yaxis.set_ticklabels(labels)"
      ],
      "metadata": {
        "id": "BmuFhIH_KmZG"
      },
      "execution_count": null,
      "outputs": []
    },
    {
      "cell_type": "markdown",
      "source": [
        "#### 2. Cross- Validation & Hyperparameter Tuning"
      ],
      "metadata": {
        "id": "-jK_YjpMpsJ2"
      }
    },
    {
      "cell_type": "code",
      "source": [
        "# ML Model - 1 Implementation with hyperparameter optimization techniques (i.e., GridSearch CV, RandomSearch CV, Bayesian Optimization etc.)\n",
        "LR = LogisticRegression()\n",
        "\n",
        "LRparam_grid = {\n",
        "    'C': [0.001, 0.01, 0.1, 1, 10, 100, 1000],\n",
        "    'penalty': ['l1', 'l2'],\n",
        "    # 'max_iter': list(range(100,800,100)),\n",
        "    'solver': ['newton-cg', 'lbfgs', 'liblinear', 'sag', 'saga']\n",
        "}\n",
        "LR_search = GridSearchCV(LR, param_grid=LRparam_grid, refit = True, verbose = 3, cv=5)\n",
        "\n",
        "# fitting the model for grid search\n",
        "LR_search.fit(X_res , y_res)\n",
        "# LR_search.best_params_\n",
        "# summarize\n",
        "print('Mean Accuracy: %.3f' % LR_search.best_score_)\n",
        "print('Config: %s' % LR_search.best_params_)"
      ],
      "metadata": {
        "id": "Dn0EOfS6psJ2"
      },
      "execution_count": null,
      "outputs": []
    },
    {
      "cell_type": "code",
      "source": [
        "# Fit the Algorithm\n",
        "clf = LogisticRegression(fit_intercept=True, max_iter=10000 , C = 10, penalty = 'l1', solver = 'liblinear')\n",
        "clf.fit(X_res, y_res)\n",
        "\n",
        "# Predict on the model\n",
        "# Evaluate Model\n",
        "clf_eval = evaluate_model(clf, X_res, y_res)\n",
        "# Print result\n",
        "print('Accuracy:', clf_eval['acc'])\n",
        "print('Precision:', clf_eval['prec'])\n",
        "print('Recall:', clf_eval['rec'])\n",
        "print('F1 Score:', clf_eval['f1'])\n",
        "print('Cohens Kappa Score:', clf_eval['kappa'])\n",
        "print('Area Under Curve:', clf_eval['auc'])\n",
        "print('Confusion Matrix:\\n', clf_eval['cm'])"
      ],
      "metadata": {
        "id": "Z4Hh56AwNWBm"
      },
      "execution_count": null,
      "outputs": []
    },
    {
      "cell_type": "markdown",
      "source": [
        "##### Which hyperparameter optimization technique have you used and why?"
      ],
      "metadata": {
        "id": "HAih1iBOpsJ2"
      }
    },
    {
      "cell_type": "markdown",
      "source": [
        "We have used Grid Search CV Hyperparameter optimization technique and tried to find the best combination of values of C, Penalty and Solver to optimize our model. We got best params Config: {'C': 10, 'penalty': 'l1', 'solver': ''liblinear''} with a mean accuracy of 75%. We have also used Cross validation with CV = 5"
      ],
      "metadata": {
        "id": "9kBgjYcdpsJ2"
      }
    },
    {
      "cell_type": "markdown",
      "source": [
        "##### Have you seen any improvement? Note down the improvement with updates Evaluation metric Score Chart."
      ],
      "metadata": {
        "id": "zVGeBEFhpsJ2"
      }
    },
    {
      "cell_type": "markdown",
      "source": [
        "After the hyperparameter tuning of Logistic Regression we observed very slight improvement in the evaluation metrics.\n",
        "\n",
        "Accuracy Before: 75.7% || Accuracy After: 75.7%\n",
        "\n",
        "Precision Before: 76.6% || Precision After:76.7%\n",
        "\n",
        "Recall Before: 74.11% || Recall After: 73.9%\n",
        "\n",
        "F1 Score Before: 75.3%|| F1 Score After: 75.2%\n",
        "\n",
        "Cohens Kappa Score Before: 51.49%|| Cohens Kappa Score After: 51.43%\n",
        "\n",
        "Area Under Curve Before: 83.91% || Area Under Curve After:83.91 %"
      ],
      "metadata": {
        "id": "74yRdG6UpsJ3"
      }
    },
    {
      "cell_type": "markdown",
      "source": [
        "#### 3. Explain each evaluation metric's indication towards business and the business impact pf the ML model used."
      ],
      "metadata": {
        "id": "bmKjuQ-FpsJ3"
      }
    },
    {
      "cell_type": "markdown",
      "source": [
        "Out of all the models we've used so far, logistic regression has the highest recall value (74%), which is quite a good score for the dataset used because we can't afford to miss out on interested clients, so this metric provides us with genuine results that meet our needs. The greater the true positives relative to total actual positives, the better the model in this scenario."
      ],
      "metadata": {
        "id": "BDKtOrBQpsJ3"
      }
    },
    {
      "cell_type": "markdown",
      "source": [
        "### ML Model - 3 - <font color= \"magenta\">RANDOM FOREST CLASSIFIER"
      ],
      "metadata": {
        "id": "Fze-IPXLpx6K"
      }
    },
    {
      "cell_type": "markdown",
      "source": [
        "## **Random Forest**\n",
        "\n",
        "*   In Random Forest, we grow multiple trees as opposed to a single tree in CART model.\n",
        "*   We construct trees from the subsets of the original dataset. These subsets can have a fraction of the columns as well as rows.\n",
        "*   To classify a new object based on attributes, each tree gives a classification and we say that the tree “votes” for that class.\n",
        "*   The forest chooses the classification having the most votes (over all the trees in the forest) and in case of regression, it takes the average of outputs by different trees.\n",
        "\n",
        "#### **How does it work?**\n",
        "\n",
        "![1_i0o8mjFfCn-uD79-F1Cqkw.png](data:image/png;base64,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)\n",
        "\n",
        "It works in the following manner:\n",
        "\n",
        "*   Assume number of rows in the training set is N. Then, a sample of n < N rows is taken at random but *with replacement.* This sample will be the training set for growing the tree.\n",
        "*   If there are M input variables, a number m < M is specified such that at each node, m variables are selected at random out of the M. The best split on these m is used to split the node. The value of m is held constant while we grow the forest.\n",
        "*   Each tree is grown to the largest extent possible and  there is no pruning.\n",
        "*   Predict new data by aggregating the predictions of the n tree trees (i.e., majority votes for classification, average for regression).\n",
        "\n",
        "\n"
      ],
      "metadata": {
        "id": "_T5MsUscrflw"
      }
    },
    {
      "cell_type": "code",
      "source": [
        "# ML Model - 3 Implementation\n",
        "# Building Random Forest model\n",
        "rf = RandomForestClassifier(random_state=0)\n",
        "# Fit the Algorithm\n",
        "rf.fit(X_res, y_res)"
      ],
      "metadata": {
        "id": "UDdxK-GHWaTS"
      },
      "execution_count": null,
      "outputs": []
    },
    {
      "cell_type": "code",
      "source": [
        "# ML Model - 3 Implementation\n",
        "# Evaluate Model\n",
        "rf_eval = evaluate_model(rf, X_test, y_test)\n",
        "# Print result\n",
        "print('Accuracy:', rf_eval['acc'])\n",
        "print('Precision:', rf_eval['prec'])\n",
        "print('Recall:', rf_eval['rec'])\n",
        "print('F1 Score:', rf_eval['f1'])\n",
        "print('Cohens Kappa Score:', rf_eval['kappa'])\n",
        "print('Area Under Curve:', rf_eval['auc'])\n",
        "print('Confusion Matrix:\\n', rf_eval['cm'])\n",
        "\n",
        "\n",
        "# Predict on the model"
      ],
      "metadata": {
        "id": "FFrSXAtrpx6M"
      },
      "execution_count": null,
      "outputs": []
    },
    {
      "cell_type": "markdown",
      "source": [
        "#### 1. Explain the ML Model used and it's performance using Evaluation metric Score Chart."
      ],
      "metadata": {
        "id": "7AN1z2sKpx6M"
      }
    },
    {
      "cell_type": "markdown",
      "source": [
        "* A Random Forest is a type of ensemble learning algoritm that trains multiple decision trees on subsets of the data and then combines their predictions to make a final prediction. This can improve the performance of the model compared to using a single decision tree. Here, we can see that the accuracy of the model is 87% which is quite a good fit for our dataset. But the recall and precision is only 33% and 39% respectively."
      ],
      "metadata": {
        "id": "5dY85vMaXJWh"
      }
    },
    {
      "cell_type": "code",
      "source": [
        "# Visualizing evaluation Metric Score chart\n",
        "\n",
        "# Intitialize figure with two plots\n",
        "fig, (ax1, ax2) = plt.subplots(1, 2)\n",
        "fig.suptitle('Vizualizing evaluation metrics', fontsize=16, fontweight='bold')\n",
        "fig.set_figheight(6)\n",
        "fig.set_figwidth(10)\n",
        "fig.set_facecolor('white')\n",
        "barWidth = 0.2\n",
        "\n",
        "# First plot\n",
        "rf_score = [rf_eval['acc'], rf_eval['prec'], rf_eval['rec'], rf_eval['f1'], rf_eval['kappa']]\n",
        "\n",
        "## Set position of bar on X axis\n",
        "r1 = np.arange(len(rf_score))\n",
        "ax1.bar(r1, rf_score, width=barWidth, edgecolor='white',color=['orange', 'red', 'green', 'blue', 'cyan'])\n",
        "\n",
        "## Configure x and y axis\n",
        "ax1.set_xlabel('Metrics', fontweight='bold')\n",
        "labels = ['Accuracy', 'Precision', 'Recall', 'F1', 'Kappa']\n",
        "ax1.set_xticks([r + (barWidth * 1.5) for r in range(len(dtc_score))], )\n",
        "ax1.set_xticklabels(labels)\n",
        "ax1.set_ylabel('Score', fontweight='bold')\n",
        "ax1.set_ylim(0, 1)\n",
        "\n",
        "## Create legend & title\n",
        "ax1.set_title('Evaluation Metrics', fontsize=14, fontweight='bold')\n",
        "ax1.legend()\n",
        "\n",
        "# Second plot\n",
        "ax2.plot(rf_eval['fpr'], rf_eval['tpr'], label='Random Forest, auc = {:0.5f}'.format(rf_eval['auc']))\n",
        "\n",
        "## Configure x and y axis\n",
        "ax2.set_xlabel('False Positive Rate', fontweight='bold')\n",
        "ax2.set_ylabel('True Positive Rate', fontweight='bold')\n",
        "\n",
        "## Create legend & title\n",
        "ax2.set_title('ROC Curve', fontsize=14, fontweight='bold')\n",
        "ax2.legend(loc=4)\n",
        "\n",
        "plt.show()"
      ],
      "metadata": {
        "id": "xIY4lxxGpx6M"
      },
      "execution_count": null,
      "outputs": []
    },
    {
      "cell_type": "markdown",
      "source": [
        "#### 2. Cross- Validation & Hyperparameter Tuning"
      ],
      "metadata": {
        "id": "9PIHJqyupx6M"
      }
    },
    {
      "cell_type": "code",
      "source": [
        "# ML Model - 3 Implementation with hyperparameter optimization techniques (i.e., GridSearch CV, RandomSearch CV, Bayesian Optimization etc.)\n",
        "from sklearn.model_selection import RandomizedSearchCV\n",
        "from scipy.stats import randint\n",
        "\n",
        "# Define the parameter distribution based on your requirements\n",
        "param_dist = {\n",
        "    'max_depth': randint(50, 100),\n",
        "    'max_features': randint(2, 5),\n",
        "    'min_samples_leaf': randint(3, 6),\n",
        "    'min_samples_split': randint(8, 13),\n",
        "    'n_estimators': [100, 300, 500]\n",
        "}\n",
        "\n",
        "# Create a base model\n",
        "rf = RandomForestClassifier(random_state=0)\n",
        "\n",
        "# Initiate the randomized search model\n",
        "random_search = RandomizedSearchCV(estimator=rf, param_distributions=param_dist, scoring='recall',\n",
        "                                   cv=5, n_iter=10, random_state=0, n_jobs=-1)\n",
        "\n",
        "# Fit the randomized search to the data\n",
        "random_search.fit(X_train, y_train)\n",
        "\n",
        "# Get the best parameters and the best score\n",
        "best_params = random_search.best_params_\n",
        "best_score = random_search.best_score_\n"
      ],
      "metadata": {
        "id": "eSVXuaSKpx6M"
      },
      "execution_count": null,
      "outputs": []
    },
    {
      "cell_type": "code",
      "source": [
        "print(best_params)\n",
        "print(best_score)"
      ],
      "metadata": {
        "id": "L6RQziTCalbs"
      },
      "execution_count": null,
      "outputs": []
    },
    {
      "cell_type": "code",
      "source": [
        "# Building Random Forest model with tuned parameter\n",
        "rf_tuned = RandomForestClassifier(random_state=0, max_depth = 50, max_features=4, min_samples_leaf = 5, min_samples_split = 8, n_estimators = 100)\n",
        "rf_tuned.fit(X_res, y_res)"
      ],
      "metadata": {
        "id": "uZ3ZxqHkaqHZ"
      },
      "execution_count": null,
      "outputs": []
    },
    {
      "cell_type": "markdown",
      "source": [
        "In a Jupyter environment, please rerun this cell to show the HTML representation or trust the notebook.\n",
        "On GitHub, the HTML representation is unable to render, please try loading this page with nbviewer.org."
      ],
      "metadata": {
        "id": "f0MZ7Q2-bsYi"
      }
    },
    {
      "cell_type": "code",
      "source": [
        "# Evaluate Model\n",
        "rf_eval = evaluate_model(rf_tuned, X_test, y_test)\n",
        "\n",
        "# Print result\n",
        "print('Accuracy:', rf_eval['acc'])\n",
        "print('Precision:', rf_eval['prec'])\n",
        "print('Recall:', rf_eval['rec'])\n",
        "print('F1 Score:', rf_eval['f1'])\n",
        "print('Cohens Kappa Score:', rf_eval['kappa'])\n",
        "print('Area Under Curve:', rf_eval['auc'])\n",
        "print('Confusion Matrix:\\n', rf_eval['cm'])"
      ],
      "metadata": {
        "id": "f_cND3r_bvCL"
      },
      "execution_count": null,
      "outputs": []
    },
    {
      "cell_type": "markdown",
      "source": [
        "##### Which hyperparameter optimization technique have you used and why?"
      ],
      "metadata": {
        "id": "_-qAgymDpx6N"
      }
    },
    {
      "cell_type": "markdown",
      "source": [
        "The hyperparameter optimization technique used in this case is RandomizedSearchCV. It was chosen because it allows for efficient exploration of a wide range of hyperparameter combinations by randomly sampling from the specified parameter distributions. Compared to GridSearchCV, RandomizedSearchCV reduces computational cost while still providing an opportunity to find optimal hyperparameter values for the model."
      ],
      "metadata": {
        "id": "lQMffxkwpx6N"
      }
    },
    {
      "cell_type": "markdown",
      "source": [
        "##### Have you seen any improvement? Note down the improvement with updates Evaluation metric Score Chart."
      ],
      "metadata": {
        "id": "Z-hykwinpx6N"
      }
    },
    {
      "cell_type": "markdown",
      "source": [
        "Accuracy Before: 86.6% || Accuracy After: 84.5%\n",
        "\n",
        "\n",
        "Precision Before: 34% || Precision After: 32.4%\n",
        "\n",
        "Recall Before: 27.99% || Recall After: 42%\n",
        "\n",
        "F1 Score Before: 30.75%|| F1 Score After: 36.61%\n",
        "\n",
        "Cohens Kappa Score Before: 23.4%|| Cohens Kappa Score After: 28%\n",
        "\n",
        "Area Under Curve Before: 71.7% || Area Under Curve After: 73%\n",
        "\n",
        "The adjustment of the hyperparameters has clearly boosted the Precision and Cohens Kappa Score Value. As a result, it has not resulted in a significant improvement in our model"
      ],
      "metadata": {
        "id": "MzVzZC6opx6N"
      }
    },
    {
      "cell_type": "markdown",
      "source": [
        "####3. Explain each evaluation metric's indication towards business and the business impact pf the ML model used."
      ],
      "metadata": {
        "id": "0MLhy4FCdp_C"
      }
    },
    {
      "cell_type": "markdown",
      "source": [
        "*  Random forest has better performance in terms of accuracy but it does not performs well as far as precision and recall is considerd , we can say that it is not a very decent upgrade over decision tree in our case since we are interested in better recall value."
      ],
      "metadata": {
        "id": "BOV0B9AydwA3"
      }
    },
    {
      "cell_type": "markdown",
      "source": [
        "### ML Model - 4 -<font color= \"magenta\">\n",
        " K NEAREST NEIGHBORS CLASSIFIERS"
      ],
      "metadata": {
        "id": "owtbhEjQd6Rn"
      }
    },
    {
      "cell_type": "code",
      "source": [
        "# Building KNN model\n",
        "knn = KNeighborsClassifier()\n",
        "# fitting the algorithim\n",
        "knn.fit(X_res, y_res)"
      ],
      "metadata": {
        "id": "a-93hDRAerNS"
      },
      "execution_count": null,
      "outputs": []
    },
    {
      "cell_type": "code",
      "source": [
        "# Evaluate Model\n",
        "knn_eval = evaluate_model(knn, X_test, y_test)\n",
        "# Print result\n",
        "print('Accuracy:', knn_eval['acc'])\n",
        "print('Precision:', knn_eval['prec'])\n",
        "print('Recall:', knn_eval['rec'])\n",
        "print('F1 Score:', knn_eval['f1'])\n",
        "print('Cohens Kappa Score:', knn_eval['kappa'])\n",
        "print('Area Under Curve:', knn_eval['auc'])\n",
        "print('Confusion Matrix:\\n', knn_eval['cm'])"
      ],
      "metadata": {
        "id": "RcHC9E33e1t4"
      },
      "execution_count": null,
      "outputs": []
    },
    {
      "cell_type": "markdown",
      "source": [
        "####KNN classifier fits well with our dataset with accuracy of almost 72% and better recall value of 49%."
      ],
      "metadata": {
        "id": "LoepQTPtfYm_"
      }
    },
    {
      "cell_type": "code",
      "source": [
        "# Visualizing evaluation Metric Score chart\n",
        "fig, (ax1, ax2) = plt.subplots(1, 2)\n",
        "fig.suptitle('Vizualising evaluation metrics', fontsize=16, fontweight='bold')\n",
        "fig.set_figheight(6)\n",
        "fig.set_figwidth(10)\n",
        "fig.set_facecolor('white')\n",
        "barWidth = 0.2\n",
        "\n",
        "knn_score = [knn_eval['acc'], knn_eval['prec'], knn_eval['rec'], knn_eval['f1'], knn_eval['kappa']]\n",
        "\n",
        "## Set position of bar on X axis\n",
        "r1 = np.arange(len(clf_score))\n",
        "ax1.bar(r1, knn_score, width=barWidth, edgecolor='white',color=['orange', 'red', 'green', 'blue', 'cyan'])\n",
        "\n",
        "## Configure x and y axis\n",
        "ax1.set_xlabel('Metrics', fontweight='bold')\n",
        "labels = ['Accuracy', 'Precision', 'Recall', 'F1', 'Kappa']\n",
        "ax1.set_xticks([r + (barWidth * 1.5) for r in range(len(clf_score))], )\n",
        "ax1.set_xticklabels(labels)\n",
        "ax1.set_ylabel('Score', fontweight='bold')\n",
        "ax1.set_ylim(0, 1)\n",
        "\n",
        "## Create legend & title\n",
        "ax1.set_title('Evaluation Metrics', fontsize=14, fontweight='bold')\n",
        "ax1.legend()\n",
        "\n",
        "# Second plot\n",
        "ax2.plot(knn_eval['fpr'], knn_eval['tpr'], label='KNN , auc = {:0.5f}'.format(clf_eval['auc']))\n",
        "\n",
        "## Configure x and y axis\n",
        "ax2.set_xlabel('False Positive Rate', fontweight='bold')\n",
        "ax2.set_ylabel('True Positive Rate', fontweight='bold')\n",
        "\n",
        "## Create legend & title\n",
        "ax2.set_title('ROC Curve', fontsize=14, fontweight='bold')\n",
        "ax2.legend(loc=4)\n",
        "\n",
        "plt.show()"
      ],
      "metadata": {
        "id": "KFBAaMJ8fDXw"
      },
      "execution_count": null,
      "outputs": []
    },
    {
      "cell_type": "markdown",
      "source": [
        "### ML Model - 5 -<font color= \"magenta\"> NAIVE BAYES CLASSIFIERS"
      ],
      "metadata": {
        "id": "I_3ZtBLufnPz"
      }
    },
    {
      "cell_type": "markdown",
      "source": [
        "**Naive Bayes is a simple technique for constructing classifiers: models that assign class labels to problem instances, represented as vectors of feature values, where the class labels are drawn from some finite set. There is not a single algorithm for training such classifiers, but a family of algorithms based on a common principle: all naive Bayes classifiers assume that the value of a particular feature is independent of the value of any other feature, given the class variable. Below are the Bayes theorem formula:**\n",
        "\n",
        "<div align=\"center\">$P(C | A) = \\frac{P(A|C) P(C)}{P(A)}$</div>"
      ],
      "metadata": {
        "id": "iQLvAMJlhE0v"
      }
    },
    {
      "cell_type": "code",
      "source": [
        "# Building Naive Bayes model\n",
        "nb = GaussianNB()\n",
        "nb.fit(X_res, y_res)"
      ],
      "metadata": {
        "id": "JUGuORMYhMlE"
      },
      "execution_count": null,
      "outputs": []
    },
    {
      "cell_type": "code",
      "source": [
        "# Evaluate Model\n",
        "nb_eval = evaluate_model(nb, X_test, y_test)\n",
        "# Print result\n",
        "print('Accuracy:', nb_eval['acc'])\n",
        "print('Precision:', nb_eval['prec'])\n",
        "print('Recall:', nb_eval['rec'])\n",
        "print('F1 Score:', nb_eval['f1'])\n",
        "print('Cohens Kappa Score:', nb_eval['kappa'])\n",
        "print('Area Under Curve:', nb_eval['auc'])\n",
        "print('Confusion Matrix:\\n', nb_eval['cm'])"
      ],
      "metadata": {
        "id": "a7VEA5JLhUdk"
      },
      "execution_count": null,
      "outputs": []
    },
    {
      "cell_type": "code",
      "source": [
        "# Visualizing evaluation Metric Score chart\n",
        "fig, (ax1, ax2) = plt.subplots(1, 2)\n",
        "fig.suptitle('Vizualising evaluation metrics', fontsize=16, fontweight='bold')\n",
        "fig.set_figheight(6)\n",
        "fig.set_figwidth(10)\n",
        "fig.set_facecolor('white')\n",
        "barWidth = 0.2\n",
        "\n",
        "nb_score = [nb_eval['acc'], nb_eval['prec'], nb_eval['rec'], nb_eval['f1'], nb_eval['kappa']]\n",
        "\n",
        "## Set position of bar on X axis\n",
        "r1 = np.arange(len(clf_score))\n",
        "ax1.bar(r1, knn_score, width=barWidth, edgecolor='white',color=['orange', 'red', 'green', 'blue', 'cyan'])\n",
        "\n",
        "## Configure x and y axis\n",
        "ax1.set_xlabel('Metrics', fontweight='bold')\n",
        "labels = ['Accuracy', 'Precision', 'Recall', 'F1', 'Kappa']\n",
        "ax1.set_xticks([r + (barWidth * 1.5) for r in range(len(clf_score))], )\n",
        "ax1.set_xticklabels(labels)\n",
        "ax1.set_ylabel('Score', fontweight='bold')\n",
        "ax1.set_ylim(0, 1)\n",
        "\n",
        "## Create legend & title\n",
        "ax1.set_title('Evaluation Metrics', fontsize=14, fontweight='bold')\n",
        "ax1.legend()\n",
        "\n",
        "# Second plot\n",
        "ax2.plot(nb_eval['fpr'], nb_eval['tpr'], label='Naive Bayes , auc = {:0.5f}'.format(clf_eval['auc']))\n",
        "\n",
        "## Configure x and y axis\n",
        "ax2.set_xlabel('False Positive Rate', fontweight='bold')\n",
        "ax2.set_ylabel('True Positive Rate', fontweight='bold')\n",
        "\n",
        "## Create legend & title\n",
        "ax2.set_title('ROC Curve', fontsize=14, fontweight='bold')\n",
        "ax2.legend(loc=4)\n",
        "\n",
        "plt.show()"
      ],
      "metadata": {
        "id": "7mzmYNnUk_ln"
      },
      "execution_count": null,
      "outputs": []
    },
    {
      "cell_type": "markdown",
      "source": [
        "### 1. Which Evaluation metrics did you consider for a positive business impact and why?"
      ],
      "metadata": {
        "id": "h_CCil-SKHpo"
      }
    },
    {
      "cell_type": "markdown",
      "source": [
        "* We want to focus on our model's Recall value because we want to predict as many actual positives as possible in our problem. Because misclassifying a customer who wanted to make a deposit can result in a lost opportunity/revenue.\n",
        "\n"
      ],
      "metadata": {
        "id": "jHVz9hHDKFms"
      }
    },
    {
      "cell_type": "markdown",
      "source": [
        "### 2. Which ML model did you choose from the above created models as your final prediction model and why?"
      ],
      "metadata": {
        "id": "cBFFvTBNJzUa"
      }
    },
    {
      "cell_type": "markdown",
      "source": [
        "**we choose 'Logistic Regression' as our  final prediction model**\n",
        "* Out of the created models we chose Logistic Regression as it has the highest performance. It not only performs well in terms of accuracy but also in terms of precision and recall.\n",
        "* It has the highest true positives and recall value which indicates that very less number of clients who have shown interest in the term deposit has been inaccurately in our model.\n",
        "* Good precision value indicates that our model is bang on predicting the true positives out of total predicted positives.\n",
        "* Since both precision and recall value has better result the F1 score which is the combination of two has also a better number.\n",
        "* Better outcomes of true positives will lead to better area under the curve which is evident from the AUC_ROC plot."
      ],
      "metadata": {
        "id": "6ksF5Q1LKTVm"
      }
    },
    {
      "cell_type": "markdown",
      "source": [
        "### 3. Explain the model which you have used and the feature importance using any model explainability tool?"
      ],
      "metadata": {
        "id": "HvGl1hHyA_VK"
      }
    },
    {
      "cell_type": "markdown",
      "source": [
        "**We have used Logistic Regression as the best model and Coefficient values as the model explainibility tool for the feature importance.**"
      ],
      "metadata": {
        "id": "YnvVTiIxBL-C"
      }
    },
    {
      "cell_type": "code",
      "source": [
        "importances = permutation_importance(clf, X_res, y_res, n_jobs=-1, random_state=42)\n",
        "sorted_idx = importances.importances_mean.argsort()\n",
        "\n",
        "fig, ax = plt.subplots(figsize=(10, 8))\n",
        "ax.barh(range(X_res.shape[1]), importances.importances_mean[sorted_idx], xerr=importances.importances_std[sorted_idx], align='center')\n",
        "ax.set_yticks(range(X_res.shape[1]))\n",
        "ax.set_yticklabels(X_res.columns[sorted_idx])\n",
        "ax.set_xlabel('Relative Feature Importance')\n",
        "plt.title(\"Feature importance based on Logistic Regression Classifier\")\n",
        "plt.show()"
      ],
      "metadata": {
        "id": "mq9MSj3wsan-"
      },
      "execution_count": null,
      "outputs": []
    },
    {
      "cell_type": "markdown",
      "source": [
        "##Model Comparision"
      ],
      "metadata": {
        "id": "WKOxd2KquBlv"
      }
    },
    {
      "cell_type": "code",
      "source": [
        "# Intitialize figure with two plots\n",
        "fig, (ax1, ax2) = plt.subplots(1, 2)\n",
        "fig.suptitle('Model Comparison', fontsize=16, fontweight='bold')\n",
        "fig.set_figheight(7)\n",
        "fig.set_figwidth(14)\n",
        "fig.set_facecolor('white')\n",
        "\n",
        "# First plot\n",
        "## set bar size\n",
        "barWidth = 0.2\n",
        "dtc_score = [dtc_eval['acc'], dtc_eval['prec'], dtc_eval['rec'], dtc_eval['f1'], dtc_eval['kappa']]\n",
        "rf_score = [rf_eval['acc'], rf_eval['prec'], rf_eval['rec'], rf_eval['f1'], rf_eval['kappa']]\n",
        "clf_score = [clf_eval['acc'], clf_eval['prec'], clf_eval['rec'], clf_eval['f1'], clf_eval['kappa']]\n",
        "knn_score = [knn_eval['acc'], knn_eval['prec'], knn_eval['rec'], knn_eval['f1'], knn_eval['kappa']]\n",
        "nb_score = [nb_eval['acc'], nb_eval['prec'], nb_eval['rec'], nb_eval['f1'], nb_eval['kappa']]\n",
        "\n",
        "## Set position of bar on X axis\n",
        "r1 = np.arange(len(dtc_score))\n",
        "r2 = [x + barWidth for x in r1]\n",
        "r3 = [x + barWidth for x in r2]\n",
        "r4 = [x + barWidth for x in r3]\n",
        "r5 = [x + barWidth for x in r4]\n",
        "\n",
        "## Make the plot\n",
        "ax1.bar(r1, dtc_score, width=barWidth, edgecolor='white', label='Decision Tree')\n",
        "ax1.bar(r2, rf_score, width=barWidth, edgecolor='white', label='Random Forest')\n",
        "ax1.bar(r3, clf_score, width=barWidth, edgecolor='white', label='Logistic Regression')\n",
        "ax1.bar(r4, knn_score, width=barWidth, edgecolor='white', label='K-Nearest Neighbors')\n",
        "ax1.bar(r5, nb_score, width=barWidth, edgecolor='white', label='Naive Bayes')\n",
        "\n",
        "\n",
        "## Configure x and y axis\n",
        "ax1.set_xlabel('Metrics', fontweight='bold')\n",
        "labels = ['Accuracy', 'Precision', 'Recall', 'F1', 'Kappa']\n",
        "ax1.set_xticks([r + (barWidth * 1.5) for r in range(len(dtc_score))], )\n",
        "ax1.set_xticklabels(labels)\n",
        "ax1.set_ylabel('Score', fontweight='bold')\n",
        "ax1.set_ylim(0, 1)\n",
        "\n",
        "## Create legend & title\n",
        "ax1.set_title('Evaluation Metrics', fontsize=14, fontweight='bold')\n",
        "ax1.legend()\n",
        "\n",
        "# Second plot\n",
        "## Comparing ROC Curve\n",
        "ax2.plot(dtc_eval['fpr'], dtc_eval['tpr'], label='Decision Tree, auc = {:0.5f}'.format(dtc_eval['auc']))\n",
        "ax2.plot(rf_eval['fpr'], rf_eval['tpr'], label='Random Forest, auc = {:0.5f}'.format(rf_eval['auc']))\n",
        "ax2.plot(clf_eval['fpr'], clf_eval['tpr'], label='Logistic Regression, auc = {:0.5f}'.format(clf_eval['auc']))\n",
        "ax2.plot(knn_eval['fpr'], knn_eval['tpr'], label='K-Nearest Nieghbor, auc = {:0.5f}'.format(knn_eval['auc']))\n",
        "ax2.plot(nb_eval['fpr'], nb_eval['tpr'], label='Naive Bayes, auc = {:0.5f}'.format(nb_eval['auc']))\n",
        "\n",
        "\n",
        "## Configure x and y axis\n",
        "ax2.set_xlabel('False Positive Rate', fontweight='bold')\n",
        "ax2.set_ylabel('True Positive Rate', fontweight='bold')\n",
        "\n",
        "## Create legend & title\n",
        "ax2.set_title('ROC Curve', fontsize=14, fontweight='bold')\n",
        "ax2.legend(loc=4)\n",
        "\n",
        "plt.show()"
      ],
      "metadata": {
        "id": "wdFVYozttidq"
      },
      "execution_count": null,
      "outputs": []
    },
    {
      "cell_type": "markdown",
      "source": [
        "## ***8.*** ***Future Work (Optional)***"
      ],
      "metadata": {
        "id": "EyNgTHvd2WFk"
      }
    },
    {
      "cell_type": "markdown",
      "source": [
        "### 1. Save the best performing ml model in a pickle file or joblib file format for deployment process.\n"
      ],
      "metadata": {
        "id": "KH5McJBi2d8v"
      }
    },
    {
      "cell_type": "code",
      "source": [
        "# Save the\n",
        "import pickle\n",
        "pickle.dump(clf, open('model_save','wb'))"
      ],
      "metadata": {
        "id": "bQIANRl32f4J"
      },
      "execution_count": null,
      "outputs": []
    },
    {
      "cell_type": "markdown",
      "source": [
        "### 2. Again Load the saved model file and try to predict unseen data for a sanity check.\n"
      ],
      "metadata": {
        "id": "iW_Lq9qf2h6X"
      }
    },
    {
      "cell_type": "code",
      "source": [
        "# Load the File and predict unseen data.\n",
        "\n",
        "model = pickle.load(open('/content/model_save','rb'))\n",
        "model.predict(X_test[:50])\n",
        "model = pickle.load(open('/content/model_save','rb'))\n",
        "model.predict(X_res[:500])"
      ],
      "metadata": {
        "id": "oEXk9ydD2nVC"
      },
      "execution_count": null,
      "outputs": []
    },
    {
      "cell_type": "code",
      "source": [
        "prediction_df = pd.DataFrame(np.array(y_test), columns = [\"y_test\"])\n",
        "prediction_df[\"y_test_predicted\"] = np.array(model.predict(X_test))\n",
        "prediction_df[:10]"
      ],
      "metadata": {
        "id": "csZ8Cm3atNZt"
      },
      "execution_count": null,
      "outputs": []
    },
    {
      "cell_type": "markdown",
      "source": [
        "### ***Congrats! Your model is successfully created and ready for deployment on a live server for a real user interaction !!!***"
      ],
      "metadata": {
        "id": "-Kee-DAl2viO"
      }
    },
    {
      "cell_type": "markdown",
      "source": [
        "# **Conclusion**"
      ],
      "metadata": {
        "id": "gCX9965dhzqZ"
      }
    },
    {
      "cell_type": "markdown",
      "source": [
        "<font color= \"orange\">**It was a great learning experience working on a financial dataset.**\n",
        "#### Based on the Exploratory Data Analysis :-\n",
        "\n",
        "1. It can be recommended that the company should target clients under the age of 40 with less than a $5,000 bank balance by increasing the frequency of phone calls to secure their acceptance of Term Deposit.\n",
        "\n",
        "2. Clients who have completed their secondary education and have blue collar employment followed by management and technicians can be the target client, and because they belong to a middle-class sector of society, the company can provide them with reasonable interest rates to acquire additional term deposits.\n",
        "\n",
        "3. We discovered that the majority of single or divorced consumers did not choose for term deposits. It generates a sizable number of consumers that the bank can capture by offering attractive plans to this specific demographic.\n",
        "\n",
        "4. Strategies should be developed to generate clients from the unemployed, self-employed, and housemaids segments, as they have the lowest conversion rate.\n",
        "5. Only 11.7% of total clients sign up for term deposits, which means that there is an 88.3% chance that clients will not subscribe to term deposits.\n",
        "6. A customer is more likely to sign up for a term deposit if he is entirely debt-free.\n",
        "7. Customers are less likely to choose a term deposit if they already have both types of loans.\n",
        "####-<font color= \"green\">Based on our analysis and model training we can say that **Logistic Regression** performs better than other Tree based models as well as Generative Models such as Naive Bayes in terms of precision and recall, which is of the prime importance from business point of view specially in our case."
      ],
      "metadata": {
        "id": "Fjb1IsQkh3yE"
      }
    },
    {
      "cell_type": "markdown",
      "source": [
        "### ***Hurrah! You have successfully completed your Machine Learning Capstone Project !!!***"
      ],
      "metadata": {
        "id": "gIfDvo9L0UH2"
      }
    },
    {
      "cell_type": "code",
      "source": [],
      "metadata": {
        "id": "433ZJ_VuDNVW"
      },
      "execution_count": null,
      "outputs": []
    }
  ]
}